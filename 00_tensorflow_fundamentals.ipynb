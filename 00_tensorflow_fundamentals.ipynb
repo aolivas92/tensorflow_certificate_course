{
  "nbformat": 4,
  "nbformat_minor": 0,
  "metadata": {
    "colab": {
      "provenance": [],
      "authorship_tag": "ABX9TyMH0grQOnHzMYoD74J3tXS0",
      "include_colab_link": true
    },
    "kernelspec": {
      "name": "python3",
      "display_name": "Python 3"
    },
    "language_info": {
      "name": "python"
    }
  },
  "cells": [
    {
      "cell_type": "markdown",
      "metadata": {
        "id": "view-in-github",
        "colab_type": "text"
      },
      "source": [
        "<a href=\"https://colab.research.google.com/github/aolivas92/tensorflow_certificate_course/blob/main/00_tensorflow_fundamentals.ipynb\" target=\"_parent\"><img src=\"https://colab.research.google.com/assets/colab-badge.svg\" alt=\"Open In Colab\"/></a>"
      ]
    },
    {
      "cell_type": "markdown",
      "source": [
        "# Section 2: Deep Learning and TensorFlow Fundamentals\n",
        "## In this notebook, we're going to cover some of the most fundamental concepts of tensors using TensorFlow\n",
        "\n",
        "More specifically, we're going to cover:\n",
        "* Introduction to tensors\n",
        "* Getting information from tensors\n",
        "* Manipulating tensors\n",
        "* Tensors & NumPy\n",
        "* Using @tf.function (a way to speed up your regular Python functions)\n",
        "* Using GPUs with TensorFlow (or TPUs)\n",
        "* Exercises to try for yourself!\n",
        "\n",
        "Google Colab Commands:\n",
        "* Change to MarkDown: CTR + M M\n",
        "* Change to Code: CTR + M Y\n",
        "* Add a Cell Below: CTR + M B\n",
        "* Add a Cell Above: CTR + M A\n",
        "* View DocString of function: CTR + SHIFT + SPACE"
      ],
      "metadata": {
        "id": "4Ou69V6lYw1R"
      }
    },
    {
      "cell_type": "markdown",
      "source": [
        "# Introduction to Tensors"
      ],
      "metadata": {
        "id": "krALFVYeblCw"
      }
    },
    {
      "cell_type": "markdown",
      "source": [
        "## 16. Creating your first tensors with TensorFlow and tf.constant()"
      ],
      "metadata": {
        "id": "uwTOVGJhoFOM"
      }
    },
    {
      "cell_type": "code",
      "source": [
        "# Import TensorFlow\n",
        "import tensorflow as tf\n",
        "print(tf.__version__)"
      ],
      "metadata": {
        "colab": {
          "base_uri": "https://localhost:8080/"
        },
        "id": "snXMkqpdca8o",
        "outputId": "4aa229d1-72fe-4fac-ff4e-bf3caddc1e59"
      },
      "execution_count": 70,
      "outputs": [
        {
          "output_type": "stream",
          "name": "stdout",
          "text": [
            "2.15.0\n"
          ]
        }
      ]
    },
    {
      "cell_type": "markdown",
      "source": [
        "We are going to create a tensor but we usually won't create tensors our selves. We can use built in modules which are able to read in our data sources and automatically convert them to tensors.\n",
        "\n",
        "To get more information about a method click CTR + SHIFT + SPACE"
      ],
      "metadata": {
        "id": "5ZcQ0gF_c3Of"
      }
    },
    {
      "cell_type": "code",
      "source": [
        "# Create tensors with tf.constant()\n",
        "scalar = tf.constant(7)\n",
        "scalar"
      ],
      "metadata": {
        "colab": {
          "base_uri": "https://localhost:8080/"
        },
        "id": "HGB2IMuLcmle",
        "outputId": "b528364b-e8dc-4b41-a8d5-d377ef6e0406"
      },
      "execution_count": 71,
      "outputs": [
        {
          "output_type": "execute_result",
          "data": {
            "text/plain": [
              "<tf.Tensor: shape=(), dtype=int32, numpy=7>"
            ]
          },
          "metadata": {},
          "execution_count": 71
        }
      ]
    },
    {
      "cell_type": "code",
      "source": [
        "# Check the number of dimensions of a tensor (ndim stands for number of dimensions)\n",
        "scalar.ndim"
      ],
      "metadata": {
        "colab": {
          "base_uri": "https://localhost:8080/"
        },
        "id": "Q0d-fs0xdJG9",
        "outputId": "6685a178-29cc-4def-dacb-f0c5548712bc"
      },
      "execution_count": 72,
      "outputs": [
        {
          "output_type": "execute_result",
          "data": {
            "text/plain": [
              "0"
            ]
          },
          "metadata": {},
          "execution_count": 72
        }
      ]
    },
    {
      "cell_type": "code",
      "source": [
        "# Create a vector\n",
        "vector = tf.constant([10, 10])\n",
        "vector"
      ],
      "metadata": {
        "colab": {
          "base_uri": "https://localhost:8080/"
        },
        "id": "vQaBMOVMecDI",
        "outputId": "59901cd5-c679-476c-e209-3a5d5ad79aa8"
      },
      "execution_count": 73,
      "outputs": [
        {
          "output_type": "execute_result",
          "data": {
            "text/plain": [
              "<tf.Tensor: shape=(2,), dtype=int32, numpy=array([10, 10], dtype=int32)>"
            ]
          },
          "metadata": {},
          "execution_count": 73
        }
      ]
    },
    {
      "cell_type": "code",
      "source": [
        "# Check the dimension of our vector\n",
        "vector.ndim"
      ],
      "metadata": {
        "colab": {
          "base_uri": "https://localhost:8080/"
        },
        "id": "q3n_g0ioekNs",
        "outputId": "1718c70b-90ed-4e44-90f6-f77a427b8ac3"
      },
      "execution_count": 74,
      "outputs": [
        {
          "output_type": "execute_result",
          "data": {
            "text/plain": [
              "1"
            ]
          },
          "metadata": {},
          "execution_count": 74
        }
      ]
    },
    {
      "cell_type": "code",
      "source": [
        "# Create a matrix (has more than 1 dimension)\n",
        "matrix = tf.constant([[10, 7],\n",
        "                      [7, 10]])\n",
        "matrix"
      ],
      "metadata": {
        "colab": {
          "base_uri": "https://localhost:8080/"
        },
        "id": "GVto_jK4eu9_",
        "outputId": "ca150aa9-b8dc-40ca-b3f3-7240cb7c0f5c"
      },
      "execution_count": 75,
      "outputs": [
        {
          "output_type": "execute_result",
          "data": {
            "text/plain": [
              "<tf.Tensor: shape=(2, 2), dtype=int32, numpy=\n",
              "array([[10,  7],\n",
              "       [ 7, 10]], dtype=int32)>"
            ]
          },
          "metadata": {},
          "execution_count": 75
        }
      ]
    },
    {
      "cell_type": "code",
      "source": [
        "# Check the dimension of our matrix\n",
        "matrix.ndim"
      ],
      "metadata": {
        "colab": {
          "base_uri": "https://localhost:8080/"
        },
        "id": "ygXzmTGWfNcR",
        "outputId": "42a2cefa-4b4d-460b-ee9d-90f556712b02"
      },
      "execution_count": 76,
      "outputs": [
        {
          "output_type": "execute_result",
          "data": {
            "text/plain": [
              "2"
            ]
          },
          "metadata": {},
          "execution_count": 76
        }
      ]
    },
    {
      "cell_type": "code",
      "source": [
        "# Create a matrix with a specific datatype\n",
        "another_matrix = tf.constant([[10., 7.],\n",
        "                              [3., 2.],\n",
        "                              [8., 9.]], dtype=tf.float16) # specify the data type with the dtype parameter\n",
        "another_matrix"
      ],
      "metadata": {
        "colab": {
          "base_uri": "https://localhost:8080/"
        },
        "id": "qlVhc3nNfW5q",
        "outputId": "d4a1d18a-042b-4fa0-c2d9-ffe39248299c"
      },
      "execution_count": 77,
      "outputs": [
        {
          "output_type": "execute_result",
          "data": {
            "text/plain": [
              "<tf.Tensor: shape=(3, 2), dtype=float16, numpy=\n",
              "array([[10.,  7.],\n",
              "       [ 3.,  2.],\n",
              "       [ 8.,  9.]], dtype=float16)>"
            ]
          },
          "metadata": {},
          "execution_count": 77
        }
      ]
    },
    {
      "cell_type": "code",
      "source": [
        "# What's the number of dimensions of another_matrix?\n",
        "another_matrix.ndim"
      ],
      "metadata": {
        "colab": {
          "base_uri": "https://localhost:8080/"
        },
        "id": "QO3KwobAfzB_",
        "outputId": "d8af2ddf-e1c3-4d12-a298-bcac06525acd"
      },
      "execution_count": 78,
      "outputs": [
        {
          "output_type": "execute_result",
          "data": {
            "text/plain": [
              "2"
            ]
          },
          "metadata": {},
          "execution_count": 78
        }
      ]
    },
    {
      "cell_type": "code",
      "source": [
        "# Let's create a tensor\n",
        "tensor = tf.constant([[[1, 2, 3],\n",
        "                       [4, 5, 6]],\n",
        "                      [[7, 8, 9],\n",
        "                       [10, 11, 12]],\n",
        "                      [[13, 14, 15],\n",
        "                       [16, 17, 18]]])\n",
        "tensor"
      ],
      "metadata": {
        "colab": {
          "base_uri": "https://localhost:8080/"
        },
        "id": "TZc6BNdwgP_D",
        "outputId": "ce587eda-a67a-44f0-ab4e-6a30854a27b4"
      },
      "execution_count": 79,
      "outputs": [
        {
          "output_type": "execute_result",
          "data": {
            "text/plain": [
              "<tf.Tensor: shape=(3, 2, 3), dtype=int32, numpy=\n",
              "array([[[ 1,  2,  3],\n",
              "        [ 4,  5,  6]],\n",
              "\n",
              "       [[ 7,  8,  9],\n",
              "        [10, 11, 12]],\n",
              "\n",
              "       [[13, 14, 15],\n",
              "        [16, 17, 18]]], dtype=int32)>"
            ]
          },
          "metadata": {},
          "execution_count": 79
        }
      ]
    },
    {
      "cell_type": "code",
      "source": [
        "tensor.ndim"
      ],
      "metadata": {
        "colab": {
          "base_uri": "https://localhost:8080/"
        },
        "id": "MGFphcZvg4KU",
        "outputId": "01a864e0-8be7-454d-e486-2f263b50cbda"
      },
      "execution_count": 80,
      "outputs": [
        {
          "output_type": "execute_result",
          "data": {
            "text/plain": [
              "3"
            ]
          },
          "metadata": {},
          "execution_count": 80
        }
      ]
    },
    {
      "cell_type": "markdown",
      "source": [
        "What we've created so far:\n",
        "\n",
        "* Scalar: a single number\n",
        "* Vector: a number with direction (e.g. wind speed and direction)\n",
        "* Matrix: a 2-dimensional array of number\n",
        "* Tensor: an n-dimensional array of numbers (where n can be any number, a 0-dimensional tensor is a scalar, a 1-dimensional tensor is a vector)"
      ],
      "metadata": {
        "id": "k3sXWJrEhBrj"
      }
    },
    {
      "cell_type": "markdown",
      "source": [
        "## 17. Creating tensors with TensorFlow and `tf.Variable()`"
      ],
      "metadata": {
        "id": "sxYcQ2bGhl1u"
      }
    },
    {
      "cell_type": "code",
      "source": [
        "# Create the same tensor with tf.Variable() as above\n",
        "changeable_tensor = tf.Variable([10, 7])\n",
        "unchangeable_tensor = tf.constant([10, 7])\n",
        "changeable_tensor, unchangeable_tensor"
      ],
      "metadata": {
        "colab": {
          "base_uri": "https://localhost:8080/"
        },
        "id": "QAOoeEDPoW0l",
        "outputId": "f01bcd12-53d1-42eb-8549-08964912e71a"
      },
      "execution_count": 81,
      "outputs": [
        {
          "output_type": "execute_result",
          "data": {
            "text/plain": [
              "(<tf.Variable 'Variable:0' shape=(2,) dtype=int32, numpy=array([10,  7], dtype=int32)>,\n",
              " <tf.Tensor: shape=(2,), dtype=int32, numpy=array([10,  7], dtype=int32)>)"
            ]
          },
          "metadata": {},
          "execution_count": 81
        }
      ]
    },
    {
      "cell_type": "code",
      "source": [
        "# Let's try change on of the elements in our changeable tensor\n",
        "# changeable_tensor[0] = 7\n",
        "changeable_tensor"
      ],
      "metadata": {
        "colab": {
          "base_uri": "https://localhost:8080/"
        },
        "id": "XOdu2kAko6xf",
        "outputId": "20c09bc0-5d3f-4638-e161-77fa761df61c"
      },
      "execution_count": 82,
      "outputs": [
        {
          "output_type": "execute_result",
          "data": {
            "text/plain": [
              "<tf.Variable 'Variable:0' shape=(2,) dtype=int32, numpy=array([10,  7], dtype=int32)>"
            ]
          },
          "metadata": {},
          "execution_count": 82
        }
      ]
    },
    {
      "cell_type": "code",
      "source": [
        "# How about we try .assign()\n",
        "changeable_tensor[0].assign(7)\n",
        "changeable_tensor"
      ],
      "metadata": {
        "colab": {
          "base_uri": "https://localhost:8080/"
        },
        "id": "fC8O5VJSpKIP",
        "outputId": "244b8788-19f8-411f-cc15-cc6d72cdca6d"
      },
      "execution_count": 83,
      "outputs": [
        {
          "output_type": "execute_result",
          "data": {
            "text/plain": [
              "<tf.Variable 'Variable:0' shape=(2,) dtype=int32, numpy=array([7, 7], dtype=int32)>"
            ]
          },
          "metadata": {},
          "execution_count": 83
        }
      ]
    },
    {
      "cell_type": "code",
      "source": [
        "# Let's try change our unchangable tensor\n",
        "# unchangeable_tensor[0].assign(7)"
      ],
      "metadata": {
        "id": "JfNdpU-opZno"
      },
      "execution_count": 84,
      "outputs": []
    },
    {
      "cell_type": "markdown",
      "source": [
        "**🔑Note**: Rarely in practice will you need to decide whether to use tf.constant or tf.Variable to create tensors, as TensorFlow does this for you. However, if in doubt, use tf.constant and change it later if needed"
      ],
      "metadata": {
        "id": "KG_uqRDB2JRi"
      }
    },
    {
      "cell_type": "markdown",
      "source": [
        "## 18. Creating random tensors with TensorFlow\n",
        "\n",
        "Random tensors are tensors of some abitrary size which conatian random numbers.\n",
        "\n",
        "![image.png](data:image/png;base64,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)\n",
        "\n",
        "In our example below they are Pseudo random. They appear to be random but aren't because we set the seed. Setting the seed is done so someone can reproduce your expirement from a different notebook."
      ],
      "metadata": {
        "id": "m6Z3DZqUpi09"
      }
    },
    {
      "cell_type": "code",
      "source": [
        "# Create two random (but the same) tensors\n",
        "random_1 = tf.random.Generator.from_seed(7) # set see for reproducibility\n",
        "random_1 = random_1.normal(shape=(3, 2))\n",
        "random_2 = tf.random.Generator.from_seed(7)\n",
        "random_2 = random_2.normal(shape=(3, 2))\n",
        "\n",
        "# Are they equal?\n",
        "random_1, random_2, random_1 == random_2"
      ],
      "metadata": {
        "colab": {
          "base_uri": "https://localhost:8080/"
        },
        "id": "P4JbxNLP18wp",
        "outputId": "f9bcf050-31dd-4c5a-c346-f41e7ed53f5b"
      },
      "execution_count": 85,
      "outputs": [
        {
          "output_type": "execute_result",
          "data": {
            "text/plain": [
              "(<tf.Tensor: shape=(3, 2), dtype=float32, numpy=\n",
              " array([[-1.3240396 ,  0.28785667],\n",
              "        [-0.8757901 , -0.08857018],\n",
              "        [ 0.69211644,  0.84215707]], dtype=float32)>,\n",
              " <tf.Tensor: shape=(3, 2), dtype=float32, numpy=\n",
              " array([[-1.3240396 ,  0.28785667],\n",
              "        [-0.8757901 , -0.08857018],\n",
              "        [ 0.69211644,  0.84215707]], dtype=float32)>,\n",
              " <tf.Tensor: shape=(3, 2), dtype=bool, numpy=\n",
              " array([[ True,  True],\n",
              "        [ True,  True],\n",
              "        [ True,  True]])>)"
            ]
          },
          "metadata": {},
          "execution_count": 85
        }
      ]
    },
    {
      "cell_type": "markdown",
      "source": [
        "## 19. Shuffling the order of tensors\n",
        "\n",
        "The order of our data could affect how our model learns. So, it's a good idea to mix up all the data so the neural network can adjust it's patterns correctly"
      ],
      "metadata": {
        "id": "9JxtwNA55Qhh"
      }
    },
    {
      "cell_type": "code",
      "source": [
        "# Shuffle a tensor (valuable for when you want to shuffle your data so the inherent order doesn't effect learning)\n",
        "not_shuffled = tf.constant([[10, 7],\n",
        "                            [3, 4],\n",
        "                            [2, 5]])\n",
        "# Shuffle our non-shuffled tensor, it shuffles it by it's 1st dimension\n",
        "tf.random.shuffle(not_shuffled)"
      ],
      "metadata": {
        "colab": {
          "base_uri": "https://localhost:8080/"
        },
        "id": "3ZSdAx1C6zyZ",
        "outputId": "d85d4b56-4f3f-44ae-e125-ffb4b9b5f9ae"
      },
      "execution_count": 86,
      "outputs": [
        {
          "output_type": "execute_result",
          "data": {
            "text/plain": [
              "<tf.Tensor: shape=(3, 2), dtype=int32, numpy=\n",
              "array([[ 3,  4],\n",
              "       [10,  7],\n",
              "       [ 2,  5]], dtype=int32)>"
            ]
          },
          "metadata": {},
          "execution_count": 86
        }
      ]
    },
    {
      "cell_type": "code",
      "source": [
        "# Shuffle our non-shuffled tensor\n",
        "tf.random.set_seed(42) # global level seed\n",
        "tf.random.shuffle(not_shuffled, seed=42) # operation level seed"
      ],
      "metadata": {
        "colab": {
          "base_uri": "https://localhost:8080/"
        },
        "id": "RSOO3QZB8i7h",
        "outputId": "86a6fe83-ddce-4021-a689-ac9c8fb244a1"
      },
      "execution_count": 87,
      "outputs": [
        {
          "output_type": "execute_result",
          "data": {
            "text/plain": [
              "<tf.Tensor: shape=(3, 2), dtype=int32, numpy=\n",
              "array([[10,  7],\n",
              "       [ 3,  4],\n",
              "       [ 2,  5]], dtype=int32)>"
            ]
          },
          "metadata": {},
          "execution_count": 87
        }
      ]
    },
    {
      "cell_type": "code",
      "source": [
        "not_shuffled"
      ],
      "metadata": {
        "colab": {
          "base_uri": "https://localhost:8080/"
        },
        "id": "YIXHGgTa7mje",
        "outputId": "26b73ef5-ed18-4141-ade7-599196f7ef31"
      },
      "execution_count": 88,
      "outputs": [
        {
          "output_type": "execute_result",
          "data": {
            "text/plain": [
              "<tf.Tensor: shape=(3, 2), dtype=int32, numpy=\n",
              "array([[10,  7],\n",
              "       [ 3,  4],\n",
              "       [ 2,  5]], dtype=int32)>"
            ]
          },
          "metadata": {},
          "execution_count": 88
        }
      ]
    },
    {
      "cell_type": "code",
      "source": [
        "nshuffled = tf.constant([[1, 2],\n",
        "                         [3, 4],\n",
        "                         [5, 6]])\n",
        "nshuffled"
      ],
      "metadata": {
        "colab": {
          "base_uri": "https://localhost:8080/"
        },
        "id": "3Vzi_lvD7xlJ",
        "outputId": "6fdf3dd4-12c4-42e3-84b4-7451e5b307d8"
      },
      "execution_count": 89,
      "outputs": [
        {
          "output_type": "execute_result",
          "data": {
            "text/plain": [
              "<tf.Tensor: shape=(3, 2), dtype=int32, numpy=\n",
              "array([[1, 2],\n",
              "       [3, 4],\n",
              "       [5, 6]], dtype=int32)>"
            ]
          },
          "metadata": {},
          "execution_count": 89
        }
      ]
    },
    {
      "cell_type": "code",
      "source": [
        "tf.random.set_seed(42)\n",
        "tf.random.shuffle(nshuffled)"
      ],
      "metadata": {
        "colab": {
          "base_uri": "https://localhost:8080/"
        },
        "id": "GtrKYj1J9rYt",
        "outputId": "e778f44b-5b4b-4c41-c787-f38eba293f8b"
      },
      "execution_count": 90,
      "outputs": [
        {
          "output_type": "execute_result",
          "data": {
            "text/plain": [
              "<tf.Tensor: shape=(3, 2), dtype=int32, numpy=\n",
              "array([[3, 4],\n",
              "       [5, 6],\n",
              "       [1, 2]], dtype=int32)>"
            ]
          },
          "metadata": {},
          "execution_count": 90
        }
      ]
    },
    {
      "cell_type": "code",
      "source": [
        "# tf.random.set_seed(42)\n",
        "tf.random.shuffle(nshuffled, seed=(42))"
      ],
      "metadata": {
        "colab": {
          "base_uri": "https://localhost:8080/"
        },
        "id": "QqzOXpgu-pSL",
        "outputId": "716d9596-41db-416f-cc57-4f43d3a7a517"
      },
      "execution_count": 91,
      "outputs": [
        {
          "output_type": "execute_result",
          "data": {
            "text/plain": [
              "<tf.Tensor: shape=(3, 2), dtype=int32, numpy=\n",
              "array([[1, 2],\n",
              "       [3, 4],\n",
              "       [5, 6]], dtype=int32)>"
            ]
          },
          "metadata": {},
          "execution_count": 91
        }
      ]
    },
    {
      "cell_type": "code",
      "source": [
        "tf.random.set_seed(42)\n",
        "tf.random.shuffle(nshuffled, seed=(42))"
      ],
      "metadata": {
        "colab": {
          "base_uri": "https://localhost:8080/"
        },
        "id": "Wb13Y3k4933_",
        "outputId": "914a8fae-1937-4c01-c58f-97c100330cfb"
      },
      "execution_count": 92,
      "outputs": [
        {
          "output_type": "execute_result",
          "data": {
            "text/plain": [
              "<tf.Tensor: shape=(3, 2), dtype=int32, numpy=\n",
              "array([[1, 2],\n",
              "       [3, 4],\n",
              "       [5, 6]], dtype=int32)>"
            ]
          },
          "metadata": {},
          "execution_count": 92
        }
      ]
    },
    {
      "cell_type": "code",
      "source": [
        "tf.random.set_seed(40)\n",
        "tf.random.shuffle(nshuffled, seed=(40))"
      ],
      "metadata": {
        "colab": {
          "base_uri": "https://localhost:8080/"
        },
        "id": "WWxlBtqj-imq",
        "outputId": "38987248-fbe9-40fd-c292-88c2987403da"
      },
      "execution_count": 93,
      "outputs": [
        {
          "output_type": "execute_result",
          "data": {
            "text/plain": [
              "<tf.Tensor: shape=(3, 2), dtype=int32, numpy=\n",
              "array([[5, 6],\n",
              "       [1, 2],\n",
              "       [3, 4]], dtype=int32)>"
            ]
          },
          "metadata": {},
          "execution_count": 93
        }
      ]
    },
    {
      "cell_type": "code",
      "source": [
        "nshuffled"
      ],
      "metadata": {
        "colab": {
          "base_uri": "https://localhost:8080/"
        },
        "id": "BD4sk49C-0Po",
        "outputId": "f4d14af8-6724-43c9-ae7d-26ae81a2019f"
      },
      "execution_count": 94,
      "outputs": [
        {
          "output_type": "execute_result",
          "data": {
            "text/plain": [
              "<tf.Tensor: shape=(3, 2), dtype=int32, numpy=\n",
              "array([[1, 2],\n",
              "       [3, 4],\n",
              "       [5, 6]], dtype=int32)>"
            ]
          },
          "metadata": {},
          "execution_count": 94
        }
      ]
    },
    {
      "cell_type": "code",
      "source": [
        "tf.random.set_seed(42) # global level random seed\n",
        "tf.random.shuffle(not_shuffled, seed=42) # operation level random seed"
      ],
      "metadata": {
        "colab": {
          "base_uri": "https://localhost:8080/"
        },
        "id": "x-akyyrpN4kG",
        "outputId": "bba17276-faf5-4688-be53-8c476febc397"
      },
      "execution_count": 98,
      "outputs": [
        {
          "output_type": "execute_result",
          "data": {
            "text/plain": [
              "<tf.Tensor: shape=(3, 2), dtype=int32, numpy=\n",
              "array([[10,  7],\n",
              "       [ 3,  4],\n",
              "       [ 2,  5]], dtype=int32)>"
            ]
          },
          "metadata": {},
          "execution_count": 98
        }
      ]
    },
    {
      "cell_type": "markdown",
      "source": [
        "🔨 **Exercise:** Read through TensorFlow documentation on random seed generation: https://www.tensorflow.org/api_docs/python/tf/random/set_seed and practice writing 5 random tensors and shuffle them.\n",
        "\n",
        "It looks like if we want our shuffled tensors to be in the same order, we've got to use the global level random seed as well as the operation level random seed:\n",
        "\n",
        ">Rule 4: \"If both the global and the operation seed are set: Both seeds are used in conjunction to determine the random sequence.\""
      ],
      "metadata": {
        "id": "xj3zdJbC9Fy-"
      }
    },
    {
      "cell_type": "markdown",
      "source": [
        "## 20. Creating tensors from NumPy arrays\n",
        "\n",
        "The main difference between NumPy arrays and TensorFlow tensors is that tensors can be run on a GPU (much faster for numerical computing)."
      ],
      "metadata": {
        "id": "BSCQ9t1C-8vB"
      }
    },
    {
      "cell_type": "code",
      "source": [
        "# Create a tensor of all ones\n",
        "tf.ones([10, 7])"
      ],
      "metadata": {
        "colab": {
          "base_uri": "https://localhost:8080/"
        },
        "id": "JpvGdILENgiv",
        "outputId": "a6d8813b-fb08-40b9-ea91-22d167493f16"
      },
      "execution_count": 99,
      "outputs": [
        {
          "output_type": "execute_result",
          "data": {
            "text/plain": [
              "<tf.Tensor: shape=(10, 7), dtype=float32, numpy=\n",
              "array([[1., 1., 1., 1., 1., 1., 1.],\n",
              "       [1., 1., 1., 1., 1., 1., 1.],\n",
              "       [1., 1., 1., 1., 1., 1., 1.],\n",
              "       [1., 1., 1., 1., 1., 1., 1.],\n",
              "       [1., 1., 1., 1., 1., 1., 1.],\n",
              "       [1., 1., 1., 1., 1., 1., 1.],\n",
              "       [1., 1., 1., 1., 1., 1., 1.],\n",
              "       [1., 1., 1., 1., 1., 1., 1.],\n",
              "       [1., 1., 1., 1., 1., 1., 1.],\n",
              "       [1., 1., 1., 1., 1., 1., 1.]], dtype=float32)>"
            ]
          },
          "metadata": {},
          "execution_count": 99
        }
      ]
    },
    {
      "cell_type": "code",
      "source": [
        "# Create a tensor of all zeros\n",
        "tf.zeros(shape=(3, 4))"
      ],
      "metadata": {
        "colab": {
          "base_uri": "https://localhost:8080/"
        },
        "id": "myjAl4hxPxcQ",
        "outputId": "e5e5f74c-b6e5-4ff1-b9e5-d359fedf19f2"
      },
      "execution_count": 100,
      "outputs": [
        {
          "output_type": "execute_result",
          "data": {
            "text/plain": [
              "<tf.Tensor: shape=(3, 4), dtype=float32, numpy=\n",
              "array([[0., 0., 0., 0.],\n",
              "       [0., 0., 0., 0.],\n",
              "       [0., 0., 0., 0.]], dtype=float32)>"
            ]
          },
          "metadata": {},
          "execution_count": 100
        }
      ]
    },
    {
      "cell_type": "code",
      "source": [
        "# You can also turn NumPy arrays into tensors\n",
        "import numpy as np\n",
        "numpy_A = np.arange(1, 25, dtype=np.int32) # create a NumPy array between 1 and 25\n",
        "numpy_A\n",
        "\n",
        "# X = tf.constant(some_matrix) # capital for matrix or tensor\n",
        "# y = tf.constant(some_vector) # lower case for vectors"
      ],
      "metadata": {
        "colab": {
          "base_uri": "https://localhost:8080/"
        },
        "id": "tMk6eryMP4UY",
        "outputId": "39dc0fb5-26df-4999-ad7a-8e212ccb4399"
      },
      "execution_count": 102,
      "outputs": [
        {
          "output_type": "execute_result",
          "data": {
            "text/plain": [
              "array([ 1,  2,  3,  4,  5,  6,  7,  8,  9, 10, 11, 12, 13, 14, 15, 16, 17,\n",
              "       18, 19, 20, 21, 22, 23, 24], dtype=int32)"
            ]
          },
          "metadata": {},
          "execution_count": 102
        }
      ]
    },
    {
      "cell_type": "code",
      "source": [
        "A = tf.constant(numpy_A, shape=(2, 3, 4))\n",
        "B = tf.constant(numpy_A)\n",
        "C = tf.constant(numpy_A, shape=(3, 8))\n",
        "A, B, C"
      ],
      "metadata": {
        "colab": {
          "base_uri": "https://localhost:8080/"
        },
        "id": "pLf5QEOKQ5nd",
        "outputId": "e69a6242-364d-4bf4-d11b-8ed4c883ef02"
      },
      "execution_count": 106,
      "outputs": [
        {
          "output_type": "execute_result",
          "data": {
            "text/plain": [
              "(<tf.Tensor: shape=(2, 3, 4), dtype=int32, numpy=\n",
              " array([[[ 1,  2,  3,  4],\n",
              "         [ 5,  6,  7,  8],\n",
              "         [ 9, 10, 11, 12]],\n",
              " \n",
              "        [[13, 14, 15, 16],\n",
              "         [17, 18, 19, 20],\n",
              "         [21, 22, 23, 24]]], dtype=int32)>,\n",
              " <tf.Tensor: shape=(24,), dtype=int32, numpy=\n",
              " array([ 1,  2,  3,  4,  5,  6,  7,  8,  9, 10, 11, 12, 13, 14, 15, 16, 17,\n",
              "        18, 19, 20, 21, 22, 23, 24], dtype=int32)>,\n",
              " <tf.Tensor: shape=(3, 8), dtype=int32, numpy=\n",
              " array([[ 1,  2,  3,  4,  5,  6,  7,  8],\n",
              "        [ 9, 10, 11, 12, 13, 14, 15, 16],\n",
              "        [17, 18, 19, 20, 21, 22, 23, 24]], dtype=int32)>)"
            ]
          },
          "metadata": {},
          "execution_count": 106
        }
      ]
    },
    {
      "cell_type": "markdown",
      "source": [
        "## 21. Getting information from your tensors (tensor attributes)"
      ],
      "metadata": {
        "id": "3Y2BuodhRGXI"
      }
    },
    {
      "cell_type": "code",
      "source": [],
      "metadata": {
        "id": "b6TamzzpR-Uh"
      },
      "execution_count": null,
      "outputs": []
    }
  ]
}