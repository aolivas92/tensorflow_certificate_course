{
  "nbformat": 4,
  "nbformat_minor": 0,
  "metadata": {
    "colab": {
      "provenance": [],
      "gpuType": "T4",
      "authorship_tag": "ABX9TyOwEjVwP9NujYMwGjxjjwLp",
      "include_colab_link": true
    },
    "kernelspec": {
      "name": "python3",
      "display_name": "Python 3"
    },
    "language_info": {
      "name": "python"
    },
    "accelerator": "GPU"
  },
  "cells": [
    {
      "cell_type": "markdown",
      "metadata": {
        "id": "view-in-github",
        "colab_type": "text"
      },
      "source": [
        "<a href=\"https://colab.research.google.com/github/aolivas92/tensorflow_certificate_course/blob/main/00_tensorflow_fundamentals.ipynb\" target=\"_parent\"><img src=\"https://colab.research.google.com/assets/colab-badge.svg\" alt=\"Open In Colab\"/></a>"
      ]
    },
    {
      "cell_type": "markdown",
      "source": [
        "# Section 2: Deep Learning and TensorFlow Fundamentals\n",
        "## In this notebook, we're going to cover some of the most fundamental concepts of tensors using TensorFlow\n",
        "\n",
        "More specifically, we're going to cover:\n",
        "* Introduction to tensors\n",
        "* Getting information from tensors\n",
        "* Manipulating tensors\n",
        "* Tensors & NumPy\n",
        "* Using @tf.function (a way to speed up your regular Python functions)\n",
        "* Using GPUs with TensorFlow (or TPUs)\n",
        "* Exercises to try for yourself!\n",
        "\n",
        "**🔑Google Colab Commands:**\n",
        "* Change to MarkDown: CTR + M M\n",
        "* Change to Code: CTR + M Y\n",
        "* Add a Cell Below: CTR + M B\n",
        "* Add a Cell Above: CTR + M A\n",
        "* View DocString of function: CTR + SHIFT + SPACE"
      ],
      "metadata": {
        "id": "4Ou69V6lYw1R"
      }
    },
    {
      "cell_type": "markdown",
      "source": [
        "# Introduction to Tensors"
      ],
      "metadata": {
        "id": "krALFVYeblCw"
      }
    },
    {
      "cell_type": "markdown",
      "source": [
        "## 16. Creating your first tensors with TensorFlow and tf.constant()"
      ],
      "metadata": {
        "id": "uwTOVGJhoFOM"
      }
    },
    {
      "cell_type": "code",
      "source": [
        "# Import TensorFlow\n",
        "import tensorflow as tf\n",
        "print(tf.__version__)"
      ],
      "metadata": {
        "colab": {
          "base_uri": "https://localhost:8080/"
        },
        "id": "snXMkqpdca8o",
        "outputId": "908725e3-4680-44b3-8300-adab3377c3bb"
      },
      "execution_count": null,
      "outputs": [
        {
          "output_type": "stream",
          "name": "stdout",
          "text": [
            "2.15.0\n"
          ]
        }
      ]
    },
    {
      "cell_type": "markdown",
      "source": [
        "We are going to create a tensor but we usually won't create tensors our selves. We can use built in modules which are able to read in our data sources and automatically convert them to tensors.\n",
        "\n",
        "To get more information about a method click CTR + SHIFT + SPACE"
      ],
      "metadata": {
        "id": "5ZcQ0gF_c3Of"
      }
    },
    {
      "cell_type": "code",
      "source": [
        "# Create tensors with tf.constant()\n",
        "scalar = tf.constant(7)\n",
        "scalar"
      ],
      "metadata": {
        "colab": {
          "base_uri": "https://localhost:8080/"
        },
        "id": "HGB2IMuLcmle",
        "outputId": "8c41b979-38db-4f72-875e-5f59ee3fc239"
      },
      "execution_count": null,
      "outputs": [
        {
          "output_type": "execute_result",
          "data": {
            "text/plain": [
              "<tf.Tensor: shape=(), dtype=int32, numpy=7>"
            ]
          },
          "metadata": {},
          "execution_count": 3
        }
      ]
    },
    {
      "cell_type": "code",
      "source": [
        "# Check the number of dimensions of a tensor (ndim stands for number of dimensions)\n",
        "scalar.ndim"
      ],
      "metadata": {
        "colab": {
          "base_uri": "https://localhost:8080/"
        },
        "id": "Q0d-fs0xdJG9",
        "outputId": "66bc928e-a314-4ac4-82dc-36743d04aa83"
      },
      "execution_count": null,
      "outputs": [
        {
          "output_type": "execute_result",
          "data": {
            "text/plain": [
              "0"
            ]
          },
          "metadata": {},
          "execution_count": 4
        }
      ]
    },
    {
      "cell_type": "code",
      "source": [
        "# Create a vector\n",
        "vector = tf.constant([10, 10])\n",
        "vector"
      ],
      "metadata": {
        "colab": {
          "base_uri": "https://localhost:8080/"
        },
        "id": "vQaBMOVMecDI",
        "outputId": "66f42bd7-d064-4d69-95b9-5283fde8bbfd"
      },
      "execution_count": null,
      "outputs": [
        {
          "output_type": "execute_result",
          "data": {
            "text/plain": [
              "<tf.Tensor: shape=(2,), dtype=int32, numpy=array([10, 10], dtype=int32)>"
            ]
          },
          "metadata": {},
          "execution_count": 5
        }
      ]
    },
    {
      "cell_type": "code",
      "source": [
        "# Check the dimension of our vector\n",
        "vector.ndim"
      ],
      "metadata": {
        "colab": {
          "base_uri": "https://localhost:8080/"
        },
        "id": "q3n_g0ioekNs",
        "outputId": "76ce3548-4395-40c5-85c9-63a2c4972f1c"
      },
      "execution_count": null,
      "outputs": [
        {
          "output_type": "execute_result",
          "data": {
            "text/plain": [
              "1"
            ]
          },
          "metadata": {},
          "execution_count": 6
        }
      ]
    },
    {
      "cell_type": "code",
      "source": [
        "# Create a matrix (has more than 1 dimension)\n",
        "matrix = tf.constant([[10, 7],\n",
        "                      [7, 10]])\n",
        "matrix"
      ],
      "metadata": {
        "colab": {
          "base_uri": "https://localhost:8080/"
        },
        "id": "GVto_jK4eu9_",
        "outputId": "4c6c7e91-10a4-4733-9479-1a2dd569c37c"
      },
      "execution_count": null,
      "outputs": [
        {
          "output_type": "execute_result",
          "data": {
            "text/plain": [
              "<tf.Tensor: shape=(2, 2), dtype=int32, numpy=\n",
              "array([[10,  7],\n",
              "       [ 7, 10]], dtype=int32)>"
            ]
          },
          "metadata": {},
          "execution_count": 7
        }
      ]
    },
    {
      "cell_type": "code",
      "source": [
        "# Check the dimension of our matrix\n",
        "matrix.ndim"
      ],
      "metadata": {
        "colab": {
          "base_uri": "https://localhost:8080/"
        },
        "id": "ygXzmTGWfNcR",
        "outputId": "fdc5e6f8-eafb-4259-cfa9-7ad0280ed7e4"
      },
      "execution_count": null,
      "outputs": [
        {
          "output_type": "execute_result",
          "data": {
            "text/plain": [
              "2"
            ]
          },
          "metadata": {},
          "execution_count": 8
        }
      ]
    },
    {
      "cell_type": "code",
      "source": [
        "# Create a matrix with a specific datatype\n",
        "another_matrix = tf.constant([[10., 7.],\n",
        "                              [3., 2.],\n",
        "                              [8., 9.]], dtype=tf.float16) # specify the data type with the dtype parameter\n",
        "another_matrix"
      ],
      "metadata": {
        "colab": {
          "base_uri": "https://localhost:8080/"
        },
        "id": "qlVhc3nNfW5q",
        "outputId": "c953b13f-4cf2-4f0c-a7c9-76ace4a6efe8"
      },
      "execution_count": null,
      "outputs": [
        {
          "output_type": "execute_result",
          "data": {
            "text/plain": [
              "<tf.Tensor: shape=(3, 2), dtype=float16, numpy=\n",
              "array([[10.,  7.],\n",
              "       [ 3.,  2.],\n",
              "       [ 8.,  9.]], dtype=float16)>"
            ]
          },
          "metadata": {},
          "execution_count": 9
        }
      ]
    },
    {
      "cell_type": "code",
      "source": [
        "# What's the number of dimensions of another_matrix?\n",
        "another_matrix.ndim"
      ],
      "metadata": {
        "colab": {
          "base_uri": "https://localhost:8080/"
        },
        "id": "QO3KwobAfzB_",
        "outputId": "c39cd878-2fb7-4308-907b-5d1a24b6fec8"
      },
      "execution_count": null,
      "outputs": [
        {
          "output_type": "execute_result",
          "data": {
            "text/plain": [
              "2"
            ]
          },
          "metadata": {},
          "execution_count": 10
        }
      ]
    },
    {
      "cell_type": "code",
      "source": [
        "# Let's create a tensor\n",
        "tensor = tf.constant([[[1, 2, 3],\n",
        "                       [4, 5, 6]],\n",
        "                      [[7, 8, 9],\n",
        "                       [10, 11, 12]],\n",
        "                      [[13, 14, 15],\n",
        "                       [16, 17, 18]]])\n",
        "tensor"
      ],
      "metadata": {
        "colab": {
          "base_uri": "https://localhost:8080/"
        },
        "id": "TZc6BNdwgP_D",
        "outputId": "aaa08af7-f36f-402e-8d73-590fa50a7a4e"
      },
      "execution_count": null,
      "outputs": [
        {
          "output_type": "execute_result",
          "data": {
            "text/plain": [
              "<tf.Tensor: shape=(3, 2, 3), dtype=int32, numpy=\n",
              "array([[[ 1,  2,  3],\n",
              "        [ 4,  5,  6]],\n",
              "\n",
              "       [[ 7,  8,  9],\n",
              "        [10, 11, 12]],\n",
              "\n",
              "       [[13, 14, 15],\n",
              "        [16, 17, 18]]], dtype=int32)>"
            ]
          },
          "metadata": {},
          "execution_count": 11
        }
      ]
    },
    {
      "cell_type": "code",
      "source": [
        "tensor.ndim"
      ],
      "metadata": {
        "colab": {
          "base_uri": "https://localhost:8080/"
        },
        "id": "MGFphcZvg4KU",
        "outputId": "01307311-cdad-4073-e928-ca9de0d9353c"
      },
      "execution_count": null,
      "outputs": [
        {
          "output_type": "execute_result",
          "data": {
            "text/plain": [
              "3"
            ]
          },
          "metadata": {},
          "execution_count": 12
        }
      ]
    },
    {
      "cell_type": "markdown",
      "source": [
        "What we've created so far:\n",
        "\n",
        "* Scalar: a single number\n",
        "* Vector: a number with direction (e.g. wind speed and direction)\n",
        "* Matrix: a 2-dimensional array of number\n",
        "* Tensor: an n-dimensional array of numbers (where n can be any number, a 0-dimensional tensor is a scalar, a 1-dimensional tensor is a vector)"
      ],
      "metadata": {
        "id": "k3sXWJrEhBrj"
      }
    },
    {
      "cell_type": "markdown",
      "source": [
        "## 17. Creating tensors with TensorFlow and `tf.Variable()`"
      ],
      "metadata": {
        "id": "sxYcQ2bGhl1u"
      }
    },
    {
      "cell_type": "code",
      "source": [
        "# Create the same tensor with tf.Variable() as above\n",
        "changeable_tensor = tf.Variable([10, 7])\n",
        "unchangeable_tensor = tf.constant([10, 7])\n",
        "changeable_tensor, unchangeable_tensor"
      ],
      "metadata": {
        "colab": {
          "base_uri": "https://localhost:8080/"
        },
        "id": "QAOoeEDPoW0l",
        "outputId": "2f18326e-14d7-4a1b-a13c-58d567b989cf"
      },
      "execution_count": null,
      "outputs": [
        {
          "output_type": "execute_result",
          "data": {
            "text/plain": [
              "(<tf.Variable 'Variable:0' shape=(2,) dtype=int32, numpy=array([10,  7], dtype=int32)>,\n",
              " <tf.Tensor: shape=(2,), dtype=int32, numpy=array([10,  7], dtype=int32)>)"
            ]
          },
          "metadata": {},
          "execution_count": 13
        }
      ]
    },
    {
      "cell_type": "code",
      "source": [
        "# Let's try change on of the elements in our changeable tensor\n",
        "# changeable_tensor[0] = 7\n",
        "changeable_tensor"
      ],
      "metadata": {
        "colab": {
          "base_uri": "https://localhost:8080/"
        },
        "id": "XOdu2kAko6xf",
        "outputId": "24c73f3f-6f9d-4f86-aaf0-9fa8276641f5"
      },
      "execution_count": null,
      "outputs": [
        {
          "output_type": "execute_result",
          "data": {
            "text/plain": [
              "<tf.Variable 'Variable:0' shape=(2,) dtype=int32, numpy=array([10,  7], dtype=int32)>"
            ]
          },
          "metadata": {},
          "execution_count": 14
        }
      ]
    },
    {
      "cell_type": "code",
      "source": [
        "# How about we try .assign()\n",
        "changeable_tensor[0].assign(7)\n",
        "changeable_tensor"
      ],
      "metadata": {
        "colab": {
          "base_uri": "https://localhost:8080/"
        },
        "id": "fC8O5VJSpKIP",
        "outputId": "8f79d300-67bc-415a-a9ca-341ef4cf9a1f"
      },
      "execution_count": null,
      "outputs": [
        {
          "output_type": "execute_result",
          "data": {
            "text/plain": [
              "<tf.Variable 'Variable:0' shape=(2,) dtype=int32, numpy=array([7, 7], dtype=int32)>"
            ]
          },
          "metadata": {},
          "execution_count": 15
        }
      ]
    },
    {
      "cell_type": "code",
      "source": [
        "# Let's try change our unchangable tensor\n",
        "# unchangeable_tensor[0].assign(7)"
      ],
      "metadata": {
        "id": "JfNdpU-opZno"
      },
      "execution_count": null,
      "outputs": []
    },
    {
      "cell_type": "markdown",
      "source": [
        "**🔑Note**: Rarely in practice will you need to decide whether to use tf.constant or tf.Variable to create tensors, as TensorFlow does this for you. However, if in doubt, use tf.constant and change it later if needed"
      ],
      "metadata": {
        "id": "KG_uqRDB2JRi"
      }
    },
    {
      "cell_type": "markdown",
      "source": [
        "## 18. Creating random tensors with TensorFlow\n",
        "\n",
        "Random tensors are tensors of some abitrary size which conatian random numbers.\n",
        "\n",
        "![image.png](data:image/png;base64,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)\n",
        "\n",
        "In our example below they are Pseudo random. They appear to be random but aren't because we set the seed. Setting the seed is done so someone can reproduce your expirement from a different notebook."
      ],
      "metadata": {
        "id": "m6Z3DZqUpi09"
      }
    },
    {
      "cell_type": "code",
      "source": [
        "# Create two random (but the same) tensors\n",
        "random_1 = tf.random.Generator.from_seed(7) # set see for reproducibility\n",
        "random_1 = random_1.normal(shape=(3, 2))\n",
        "random_2 = tf.random.Generator.from_seed(7)\n",
        "random_2 = random_2.normal(shape=(3, 2))\n",
        "\n",
        "# Are they equal?\n",
        "random_1, random_2, random_1 == random_2"
      ],
      "metadata": {
        "colab": {
          "base_uri": "https://localhost:8080/"
        },
        "id": "P4JbxNLP18wp",
        "outputId": "78b932cb-ba63-4715-a945-ed1cc0c11300"
      },
      "execution_count": null,
      "outputs": [
        {
          "output_type": "execute_result",
          "data": {
            "text/plain": [
              "(<tf.Tensor: shape=(3, 2), dtype=float32, numpy=\n",
              " array([[-1.3240396 ,  0.2878567 ],\n",
              "        [-0.87579006, -0.08857017],\n",
              "        [ 0.69211644,  0.84215707]], dtype=float32)>,\n",
              " <tf.Tensor: shape=(3, 2), dtype=float32, numpy=\n",
              " array([[-1.3240396 ,  0.2878567 ],\n",
              "        [-0.87579006, -0.08857017],\n",
              "        [ 0.69211644,  0.84215707]], dtype=float32)>,\n",
              " <tf.Tensor: shape=(3, 2), dtype=bool, numpy=\n",
              " array([[ True,  True],\n",
              "        [ True,  True],\n",
              "        [ True,  True]])>)"
            ]
          },
          "metadata": {},
          "execution_count": 17
        }
      ]
    },
    {
      "cell_type": "markdown",
      "source": [
        "## 19. Shuffling the order of tensors\n",
        "\n",
        "🔑The order of our data could affect how our model learns. So, it's a good idea to mix up all the data so the neural network can adjust it's patterns correctly"
      ],
      "metadata": {
        "id": "9JxtwNA55Qhh"
      }
    },
    {
      "cell_type": "code",
      "source": [
        "# Shuffle a tensor (valuable for when you want to shuffle your data so the inherent order doesn't effect learning)\n",
        "not_shuffled = tf.constant([[10, 7],\n",
        "                            [3, 4],\n",
        "                            [2, 5]])\n",
        "# Shuffle our non-shuffled tensor, it shuffles it by it's 1st dimension\n",
        "tf.random.shuffle(not_shuffled)"
      ],
      "metadata": {
        "colab": {
          "base_uri": "https://localhost:8080/"
        },
        "id": "3ZSdAx1C6zyZ",
        "outputId": "a8922586-b380-4a51-d35e-828cd493fafe"
      },
      "execution_count": null,
      "outputs": [
        {
          "output_type": "execute_result",
          "data": {
            "text/plain": [
              "<tf.Tensor: shape=(3, 2), dtype=int32, numpy=\n",
              "array([[ 2,  5],\n",
              "       [ 3,  4],\n",
              "       [10,  7]], dtype=int32)>"
            ]
          },
          "metadata": {},
          "execution_count": 18
        }
      ]
    },
    {
      "cell_type": "code",
      "source": [
        "# Shuffle our non-shuffled tensor\n",
        "tf.random.set_seed(42) # global level seed\n",
        "tf.random.shuffle(not_shuffled, seed=42) # operation level seed"
      ],
      "metadata": {
        "colab": {
          "base_uri": "https://localhost:8080/"
        },
        "id": "RSOO3QZB8i7h",
        "outputId": "cfeff9ea-fe02-402b-cfc6-df6e6510862a"
      },
      "execution_count": null,
      "outputs": [
        {
          "output_type": "execute_result",
          "data": {
            "text/plain": [
              "<tf.Tensor: shape=(3, 2), dtype=int32, numpy=\n",
              "array([[10,  7],\n",
              "       [ 3,  4],\n",
              "       [ 2,  5]], dtype=int32)>"
            ]
          },
          "metadata": {},
          "execution_count": 19
        }
      ]
    },
    {
      "cell_type": "code",
      "source": [
        "not_shuffled"
      ],
      "metadata": {
        "colab": {
          "base_uri": "https://localhost:8080/"
        },
        "id": "YIXHGgTa7mje",
        "outputId": "ca80ee7d-cc81-45e6-caee-4fa8c9ea2897"
      },
      "execution_count": null,
      "outputs": [
        {
          "output_type": "execute_result",
          "data": {
            "text/plain": [
              "<tf.Tensor: shape=(3, 2), dtype=int32, numpy=\n",
              "array([[10,  7],\n",
              "       [ 3,  4],\n",
              "       [ 2,  5]], dtype=int32)>"
            ]
          },
          "metadata": {},
          "execution_count": 20
        }
      ]
    },
    {
      "cell_type": "code",
      "source": [
        "nshuffled = tf.constant([[1, 2],\n",
        "                         [3, 4],\n",
        "                         [5, 6]])\n",
        "nshuffled"
      ],
      "metadata": {
        "colab": {
          "base_uri": "https://localhost:8080/"
        },
        "id": "3Vzi_lvD7xlJ",
        "outputId": "c6b2106f-737f-4323-9e90-72dc64509fe3"
      },
      "execution_count": null,
      "outputs": [
        {
          "output_type": "execute_result",
          "data": {
            "text/plain": [
              "<tf.Tensor: shape=(3, 2), dtype=int32, numpy=\n",
              "array([[1, 2],\n",
              "       [3, 4],\n",
              "       [5, 6]], dtype=int32)>"
            ]
          },
          "metadata": {},
          "execution_count": 21
        }
      ]
    },
    {
      "cell_type": "code",
      "source": [
        "tf.random.set_seed(42)\n",
        "tf.random.shuffle(nshuffled)"
      ],
      "metadata": {
        "colab": {
          "base_uri": "https://localhost:8080/"
        },
        "id": "GtrKYj1J9rYt",
        "outputId": "1fe23931-e972-4f79-8b97-21db70a0fa16"
      },
      "execution_count": null,
      "outputs": [
        {
          "output_type": "execute_result",
          "data": {
            "text/plain": [
              "<tf.Tensor: shape=(3, 2), dtype=int32, numpy=\n",
              "array([[3, 4],\n",
              "       [5, 6],\n",
              "       [1, 2]], dtype=int32)>"
            ]
          },
          "metadata": {},
          "execution_count": 22
        }
      ]
    },
    {
      "cell_type": "code",
      "source": [
        "# tf.random.set_seed(42)\n",
        "tf.random.shuffle(nshuffled, seed=(42))"
      ],
      "metadata": {
        "colab": {
          "base_uri": "https://localhost:8080/"
        },
        "id": "QqzOXpgu-pSL",
        "outputId": "e0a4e5e1-bc5c-4b1e-e89f-c82fca41e340"
      },
      "execution_count": null,
      "outputs": [
        {
          "output_type": "execute_result",
          "data": {
            "text/plain": [
              "<tf.Tensor: shape=(3, 2), dtype=int32, numpy=\n",
              "array([[1, 2],\n",
              "       [3, 4],\n",
              "       [5, 6]], dtype=int32)>"
            ]
          },
          "metadata": {},
          "execution_count": 23
        }
      ]
    },
    {
      "cell_type": "code",
      "source": [
        "tf.random.set_seed(42)\n",
        "tf.random.shuffle(nshuffled, seed=(42))"
      ],
      "metadata": {
        "colab": {
          "base_uri": "https://localhost:8080/"
        },
        "id": "Wb13Y3k4933_",
        "outputId": "0fdaeafc-6e5e-46c4-f714-b87b42673405"
      },
      "execution_count": null,
      "outputs": [
        {
          "output_type": "execute_result",
          "data": {
            "text/plain": [
              "<tf.Tensor: shape=(3, 2), dtype=int32, numpy=\n",
              "array([[1, 2],\n",
              "       [3, 4],\n",
              "       [5, 6]], dtype=int32)>"
            ]
          },
          "metadata": {},
          "execution_count": 24
        }
      ]
    },
    {
      "cell_type": "code",
      "source": [
        "tf.random.set_seed(40)\n",
        "tf.random.shuffle(nshuffled, seed=(40))"
      ],
      "metadata": {
        "colab": {
          "base_uri": "https://localhost:8080/"
        },
        "id": "WWxlBtqj-imq",
        "outputId": "78645249-e4b1-4a02-8405-86fb00b85e20"
      },
      "execution_count": null,
      "outputs": [
        {
          "output_type": "execute_result",
          "data": {
            "text/plain": [
              "<tf.Tensor: shape=(3, 2), dtype=int32, numpy=\n",
              "array([[5, 6],\n",
              "       [1, 2],\n",
              "       [3, 4]], dtype=int32)>"
            ]
          },
          "metadata": {},
          "execution_count": 25
        }
      ]
    },
    {
      "cell_type": "code",
      "source": [
        "nshuffled"
      ],
      "metadata": {
        "colab": {
          "base_uri": "https://localhost:8080/"
        },
        "id": "BD4sk49C-0Po",
        "outputId": "49da361a-7495-45f6-9af7-955b5def4eb9"
      },
      "execution_count": null,
      "outputs": [
        {
          "output_type": "execute_result",
          "data": {
            "text/plain": [
              "<tf.Tensor: shape=(3, 2), dtype=int32, numpy=\n",
              "array([[1, 2],\n",
              "       [3, 4],\n",
              "       [5, 6]], dtype=int32)>"
            ]
          },
          "metadata": {},
          "execution_count": 26
        }
      ]
    },
    {
      "cell_type": "code",
      "source": [
        "tf.random.set_seed(42) # global level random seed\n",
        "tf.random.shuffle(not_shuffled, seed=42) # operation level random seed"
      ],
      "metadata": {
        "colab": {
          "base_uri": "https://localhost:8080/"
        },
        "id": "x-akyyrpN4kG",
        "outputId": "e334c147-9a35-413a-a0ad-25de3de77c2b"
      },
      "execution_count": null,
      "outputs": [
        {
          "output_type": "execute_result",
          "data": {
            "text/plain": [
              "<tf.Tensor: shape=(3, 2), dtype=int32, numpy=\n",
              "array([[10,  7],\n",
              "       [ 3,  4],\n",
              "       [ 2,  5]], dtype=int32)>"
            ]
          },
          "metadata": {},
          "execution_count": 27
        }
      ]
    },
    {
      "cell_type": "markdown",
      "source": [
        "🔨 **Exercise:** Read through TensorFlow documentation on random seed generation: https://www.tensorflow.org/api_docs/python/tf/random/set_seed and practice writing 5 random tensors and shuffle them.\n",
        "\n",
        "It looks like if we want our shuffled tensors to be in the same order, we've got to use the global level random seed as well as the operation level random seed:\n",
        "\n",
        ">Rule 4: \"If both the global and the operation seed are set: Both seeds are used in conjunction to determine the random sequence.\""
      ],
      "metadata": {
        "id": "xj3zdJbC9Fy-"
      }
    },
    {
      "cell_type": "markdown",
      "source": [
        "## 20. Creating tensors from NumPy arrays\n",
        "\n",
        "🔑Note: The main difference between NumPy arrays and TensorFlow tensors is that tensors can be run on a GPU (much faster for numerical computing)."
      ],
      "metadata": {
        "id": "BSCQ9t1C-8vB"
      }
    },
    {
      "cell_type": "code",
      "source": [
        "# Create a tensor of all ones\n",
        "tf.ones([10, 7])"
      ],
      "metadata": {
        "colab": {
          "base_uri": "https://localhost:8080/"
        },
        "id": "JpvGdILENgiv",
        "outputId": "69022616-770c-49e2-ada5-4de7602202f1"
      },
      "execution_count": null,
      "outputs": [
        {
          "output_type": "execute_result",
          "data": {
            "text/plain": [
              "<tf.Tensor: shape=(10, 7), dtype=float32, numpy=\n",
              "array([[1., 1., 1., 1., 1., 1., 1.],\n",
              "       [1., 1., 1., 1., 1., 1., 1.],\n",
              "       [1., 1., 1., 1., 1., 1., 1.],\n",
              "       [1., 1., 1., 1., 1., 1., 1.],\n",
              "       [1., 1., 1., 1., 1., 1., 1.],\n",
              "       [1., 1., 1., 1., 1., 1., 1.],\n",
              "       [1., 1., 1., 1., 1., 1., 1.],\n",
              "       [1., 1., 1., 1., 1., 1., 1.],\n",
              "       [1., 1., 1., 1., 1., 1., 1.],\n",
              "       [1., 1., 1., 1., 1., 1., 1.]], dtype=float32)>"
            ]
          },
          "metadata": {},
          "execution_count": 28
        }
      ]
    },
    {
      "cell_type": "code",
      "source": [
        "# Create a tensor of all zeros\n",
        "tf.zeros(shape=(3, 4))"
      ],
      "metadata": {
        "colab": {
          "base_uri": "https://localhost:8080/"
        },
        "id": "myjAl4hxPxcQ",
        "outputId": "623d436b-31a3-41d6-ab93-407ed13efb79"
      },
      "execution_count": null,
      "outputs": [
        {
          "output_type": "execute_result",
          "data": {
            "text/plain": [
              "<tf.Tensor: shape=(3, 4), dtype=float32, numpy=\n",
              "array([[0., 0., 0., 0.],\n",
              "       [0., 0., 0., 0.],\n",
              "       [0., 0., 0., 0.]], dtype=float32)>"
            ]
          },
          "metadata": {},
          "execution_count": 29
        }
      ]
    },
    {
      "cell_type": "code",
      "source": [
        "# You can also turn NumPy arrays into tensors\n",
        "import numpy as np\n",
        "numpy_A = np.arange(1, 25, dtype=np.int32) # create a NumPy array between 1 and 25\n",
        "numpy_A\n",
        "\n",
        "# X = tf.constant(some_matrix) # capital for matrix or tensor\n",
        "# y = tf.constant(some_vector) # lower case for vectors"
      ],
      "metadata": {
        "colab": {
          "base_uri": "https://localhost:8080/"
        },
        "id": "tMk6eryMP4UY",
        "outputId": "8d9f6147-765f-47df-e98d-ffe3937d7f25"
      },
      "execution_count": null,
      "outputs": [
        {
          "output_type": "execute_result",
          "data": {
            "text/plain": [
              "array([ 1,  2,  3,  4,  5,  6,  7,  8,  9, 10, 11, 12, 13, 14, 15, 16, 17,\n",
              "       18, 19, 20, 21, 22, 23, 24], dtype=int32)"
            ]
          },
          "metadata": {},
          "execution_count": 30
        }
      ]
    },
    {
      "cell_type": "code",
      "source": [
        "A = tf.constant(numpy_A, shape=(2, 3, 4))\n",
        "B = tf.constant(numpy_A)\n",
        "C = tf.constant(numpy_A, shape=(3, 8))\n",
        "A, B, C"
      ],
      "metadata": {
        "colab": {
          "base_uri": "https://localhost:8080/"
        },
        "id": "pLf5QEOKQ5nd",
        "outputId": "b2bbabcf-9cad-4e5d-9019-bee5edf96291"
      },
      "execution_count": null,
      "outputs": [
        {
          "output_type": "execute_result",
          "data": {
            "text/plain": [
              "(<tf.Tensor: shape=(2, 3, 4), dtype=int32, numpy=\n",
              " array([[[ 1,  2,  3,  4],\n",
              "         [ 5,  6,  7,  8],\n",
              "         [ 9, 10, 11, 12]],\n",
              " \n",
              "        [[13, 14, 15, 16],\n",
              "         [17, 18, 19, 20],\n",
              "         [21, 22, 23, 24]]], dtype=int32)>,\n",
              " <tf.Tensor: shape=(24,), dtype=int32, numpy=\n",
              " array([ 1,  2,  3,  4,  5,  6,  7,  8,  9, 10, 11, 12, 13, 14, 15, 16, 17,\n",
              "        18, 19, 20, 21, 22, 23, 24], dtype=int32)>,\n",
              " <tf.Tensor: shape=(3, 8), dtype=int32, numpy=\n",
              " array([[ 1,  2,  3,  4,  5,  6,  7,  8],\n",
              "        [ 9, 10, 11, 12, 13, 14, 15, 16],\n",
              "        [17, 18, 19, 20, 21, 22, 23, 24]], dtype=int32)>)"
            ]
          },
          "metadata": {},
          "execution_count": 31
        }
      ]
    },
    {
      "cell_type": "markdown",
      "source": [
        "## 21. Getting information from your tensors (tensor attributes)\n",
        "\n",
        "When dealing with tensors you probably want to be aware of the folling attributes:\n",
        "* Shape\n",
        "* Rank\n",
        "* Axis or dimension\n",
        "* Size"
      ],
      "metadata": {
        "id": "3Y2BuodhRGXI"
      }
    },
    {
      "cell_type": "code",
      "source": [
        "# Create a rank 4 tensor (4 dimensions)\n",
        "rank_4_tensor = tf.zeros(shape=[2, 3, 4, 5])\n",
        "rank_4_tensor"
      ],
      "metadata": {
        "colab": {
          "base_uri": "https://localhost:8080/"
        },
        "id": "HCst7KwSSsdT",
        "outputId": "b29f895f-ee29-49a3-9c45-82dc43d13102"
      },
      "execution_count": null,
      "outputs": [
        {
          "output_type": "execute_result",
          "data": {
            "text/plain": [
              "<tf.Tensor: shape=(2, 3, 4, 5), dtype=float32, numpy=\n",
              "array([[[[0., 0., 0., 0., 0.],\n",
              "         [0., 0., 0., 0., 0.],\n",
              "         [0., 0., 0., 0., 0.],\n",
              "         [0., 0., 0., 0., 0.]],\n",
              "\n",
              "        [[0., 0., 0., 0., 0.],\n",
              "         [0., 0., 0., 0., 0.],\n",
              "         [0., 0., 0., 0., 0.],\n",
              "         [0., 0., 0., 0., 0.]],\n",
              "\n",
              "        [[0., 0., 0., 0., 0.],\n",
              "         [0., 0., 0., 0., 0.],\n",
              "         [0., 0., 0., 0., 0.],\n",
              "         [0., 0., 0., 0., 0.]]],\n",
              "\n",
              "\n",
              "       [[[0., 0., 0., 0., 0.],\n",
              "         [0., 0., 0., 0., 0.],\n",
              "         [0., 0., 0., 0., 0.],\n",
              "         [0., 0., 0., 0., 0.]],\n",
              "\n",
              "        [[0., 0., 0., 0., 0.],\n",
              "         [0., 0., 0., 0., 0.],\n",
              "         [0., 0., 0., 0., 0.],\n",
              "         [0., 0., 0., 0., 0.]],\n",
              "\n",
              "        [[0., 0., 0., 0., 0.],\n",
              "         [0., 0., 0., 0., 0.],\n",
              "         [0., 0., 0., 0., 0.],\n",
              "         [0., 0., 0., 0., 0.]]]], dtype=float32)>"
            ]
          },
          "metadata": {},
          "execution_count": 32
        }
      ]
    },
    {
      "cell_type": "code",
      "source": [
        "rank_4_tensor[0]\n",
        "rank_4_tensor.shape, rank_4_tensor.ndim, tf.size(rank_4_tensor)"
      ],
      "metadata": {
        "colab": {
          "base_uri": "https://localhost:8080/"
        },
        "id": "gHbSQsqzMHZ8",
        "outputId": "a302ccbd-0af5-4389-9dca-c42a601dae78"
      },
      "execution_count": null,
      "outputs": [
        {
          "output_type": "execute_result",
          "data": {
            "text/plain": [
              "(TensorShape([2, 3, 4, 5]), 4, <tf.Tensor: shape=(), dtype=int32, numpy=120>)"
            ]
          },
          "metadata": {},
          "execution_count": 33
        }
      ]
    },
    {
      "cell_type": "code",
      "source": [
        "# Get various attributes of our tensor\n",
        "print(\"Datatype of every element:\", rank_4_tensor.dtype)\n",
        "print(\"Number of dimension (rank):\", rank_4_tensor.ndim)\n",
        "print(\"Shape of tensor:\", rank_4_tensor.shape)\n",
        "print(\"Elements along the 0 axis:\", rank_4_tensor.shape[0])\n",
        "print(\"Elements along the last axis:\", rank_4_tensor.shape[-1])\n",
        "print(\"Total number of elements in our tensor:\", tf.size(rank_4_tensor))\n",
        "print(\"Total number of elements in our tensor:\", tf.size(rank_4_tensor).numpy()) # convert it into a numpy integer"
      ],
      "metadata": {
        "colab": {
          "base_uri": "https://localhost:8080/"
        },
        "id": "B2Ce7zmsMcKI",
        "outputId": "e1d05199-5ffe-4810-868e-80fe97179360"
      },
      "execution_count": null,
      "outputs": [
        {
          "output_type": "stream",
          "name": "stdout",
          "text": [
            "Datatype of every element: <dtype: 'float32'>\n",
            "Number of dimension (rank): 4\n",
            "Shape of tensor: (2, 3, 4, 5)\n",
            "Elements along the 0 axis: 2\n",
            "Elements along the last axis: 5\n",
            "Total number of elements in our tensor: tf.Tensor(120, shape=(), dtype=int32)\n",
            "Total number of elements in our tensor: 120\n"
          ]
        }
      ]
    },
    {
      "cell_type": "markdown",
      "source": [
        "## Indexing and expanding tensors\n",
        "\n",
        "🔑Note: Tenors can be indexed just like Python lists"
      ],
      "metadata": {
        "id": "eWshmXU2NaA7"
      }
    },
    {
      "cell_type": "code",
      "source": [
        "some_list = [1, 2, 3, 4]\n",
        "some_list[:2]"
      ],
      "metadata": {
        "colab": {
          "base_uri": "https://localhost:8080/"
        },
        "id": "Z132YRRcOTA7",
        "outputId": "6e6aefec-87f0-422b-ce96-e49a803ada54"
      },
      "execution_count": null,
      "outputs": [
        {
          "output_type": "execute_result",
          "data": {
            "text/plain": [
              "[1, 2]"
            ]
          },
          "metadata": {},
          "execution_count": 35
        }
      ]
    },
    {
      "cell_type": "code",
      "source": [
        "# Get the first 2 elements of each dimension\n",
        "rank_4_tensor[:2, :2, :2, :2]"
      ],
      "metadata": {
        "colab": {
          "base_uri": "https://localhost:8080/"
        },
        "id": "Aexw9HzON0vf",
        "outputId": "04185bf8-f54d-4a96-8474-0e4f8996cae0"
      },
      "execution_count": null,
      "outputs": [
        {
          "output_type": "execute_result",
          "data": {
            "text/plain": [
              "<tf.Tensor: shape=(2, 2, 2, 2), dtype=float32, numpy=\n",
              "array([[[[0., 0.],\n",
              "         [0., 0.]],\n",
              "\n",
              "        [[0., 0.],\n",
              "         [0., 0.]]],\n",
              "\n",
              "\n",
              "       [[[0., 0.],\n",
              "         [0., 0.]],\n",
              "\n",
              "        [[0., 0.],\n",
              "         [0., 0.]]]], dtype=float32)>"
            ]
          },
          "metadata": {},
          "execution_count": 36
        }
      ]
    },
    {
      "cell_type": "code",
      "source": [
        "some_list[:1]"
      ],
      "metadata": {
        "colab": {
          "base_uri": "https://localhost:8080/"
        },
        "id": "tehZ3MuZOrnN",
        "outputId": "6030f9b3-b707-4f74-eace-4e05093316d7"
      },
      "execution_count": null,
      "outputs": [
        {
          "output_type": "execute_result",
          "data": {
            "text/plain": [
              "[1]"
            ]
          },
          "metadata": {},
          "execution_count": 37
        }
      ]
    },
    {
      "cell_type": "code",
      "source": [
        "rank_4_tensor.shape"
      ],
      "metadata": {
        "colab": {
          "base_uri": "https://localhost:8080/"
        },
        "id": "EJ3U_c-BPF8f",
        "outputId": "e4e7d01b-d9b8-4428-9f1f-d8db33df63d7"
      },
      "execution_count": null,
      "outputs": [
        {
          "output_type": "execute_result",
          "data": {
            "text/plain": [
              "TensorShape([2, 3, 4, 5])"
            ]
          },
          "metadata": {},
          "execution_count": 38
        }
      ]
    },
    {
      "cell_type": "code",
      "source": [
        "# Get the first element from each dimension from each index except for the final one\n",
        "rank_4_tensor[:1, :1, :1, :] # same thing as below\n",
        "rank_4_tensor[:1, :1, :1]"
      ],
      "metadata": {
        "colab": {
          "base_uri": "https://localhost:8080/"
        },
        "id": "l9EwzGtkOOBy",
        "outputId": "65a82c5c-9010-4428-8d73-33afb0dca8ff"
      },
      "execution_count": null,
      "outputs": [
        {
          "output_type": "execute_result",
          "data": {
            "text/plain": [
              "<tf.Tensor: shape=(1, 1, 1, 5), dtype=float32, numpy=array([[[[0., 0., 0., 0., 0.]]]], dtype=float32)>"
            ]
          },
          "metadata": {},
          "execution_count": 39
        }
      ]
    },
    {
      "cell_type": "code",
      "source": [
        "rank_4_tensor[:1, :1, :, :1]"
      ],
      "metadata": {
        "colab": {
          "base_uri": "https://localhost:8080/"
        },
        "id": "8OieRQbZOwkG",
        "outputId": "cbf96410-ec80-459e-e710-1ee9216db060"
      },
      "execution_count": null,
      "outputs": [
        {
          "output_type": "execute_result",
          "data": {
            "text/plain": [
              "<tf.Tensor: shape=(1, 1, 4, 1), dtype=float32, numpy=\n",
              "array([[[[0.],\n",
              "         [0.],\n",
              "         [0.],\n",
              "         [0.]]]], dtype=float32)>"
            ]
          },
          "metadata": {},
          "execution_count": 40
        }
      ]
    },
    {
      "cell_type": "code",
      "source": [
        "# Create a rank 2 tensor (2-dimensions)\n",
        "rank_2_tensor = tf.constant([[10, 7],\n",
        "                             [3, 4]])\n",
        "rank_2_tensor.shape, rank_2_tensor.ndim"
      ],
      "metadata": {
        "colab": {
          "base_uri": "https://localhost:8080/"
        },
        "id": "eIShupMhPDLS",
        "outputId": "5ff53017-0d66-4fe1-fd82-ac0c3921f14e"
      },
      "execution_count": null,
      "outputs": [
        {
          "output_type": "execute_result",
          "data": {
            "text/plain": [
              "(TensorShape([2, 2]), 2)"
            ]
          },
          "metadata": {},
          "execution_count": 41
        }
      ]
    },
    {
      "cell_type": "code",
      "source": [
        "rank_2_tensor"
      ],
      "metadata": {
        "colab": {
          "base_uri": "https://localhost:8080/"
        },
        "id": "IqLXMyOXPjWm",
        "outputId": "d4ec23c4-b51a-4d76-b5fd-fa3edbe86bec"
      },
      "execution_count": null,
      "outputs": [
        {
          "output_type": "execute_result",
          "data": {
            "text/plain": [
              "<tf.Tensor: shape=(2, 2), dtype=int32, numpy=\n",
              "array([[10,  7],\n",
              "       [ 3,  4]], dtype=int32)>"
            ]
          },
          "metadata": {},
          "execution_count": 42
        }
      ]
    },
    {
      "cell_type": "code",
      "source": [
        "some_list, some_list[-1]"
      ],
      "metadata": {
        "colab": {
          "base_uri": "https://localhost:8080/"
        },
        "id": "RcU-7czLPlBH",
        "outputId": "bf7eef13-dcfe-4eca-d45b-025d1e657c22"
      },
      "execution_count": null,
      "outputs": [
        {
          "output_type": "execute_result",
          "data": {
            "text/plain": [
              "([1, 2, 3, 4], 4)"
            ]
          },
          "metadata": {},
          "execution_count": 43
        }
      ]
    },
    {
      "cell_type": "code",
      "source": [
        "# Get the last item of each row of our rank 2 tensor\n",
        "rank_2_tensor[:, -1]"
      ],
      "metadata": {
        "colab": {
          "base_uri": "https://localhost:8080/"
        },
        "id": "EpJX4Mk0PXr1",
        "outputId": "068da83e-9cfb-4ae1-b805-6e8f2e1d99c0"
      },
      "execution_count": null,
      "outputs": [
        {
          "output_type": "execute_result",
          "data": {
            "text/plain": [
              "<tf.Tensor: shape=(2,), dtype=int32, numpy=array([7, 4], dtype=int32)>"
            ]
          },
          "metadata": {},
          "execution_count": 44
        }
      ]
    },
    {
      "cell_type": "markdown",
      "source": [
        "**🔑Note:** Instead of writting every dimension before it like:\n",
        "```\n",
        "rank_3_tensor[:, :, -1]\n",
        "```\n",
        "You can do:\n",
        "```\n",
        "rank_3_tensor[..., -1]\n",
        "```\n"
      ],
      "metadata": {
        "id": "k2-QbVERQbQA"
      }
    },
    {
      "cell_type": "code",
      "source": [
        "rank_3_tensor = tf.reshape(tf.range(0, 24), shape=(2, 3, 4))\n",
        "rank_3_tensor"
      ],
      "metadata": {
        "colab": {
          "base_uri": "https://localhost:8080/"
        },
        "id": "leChtIioRMag",
        "outputId": "c0066c79-dd2c-4bbc-d93d-81f874f24b9e"
      },
      "execution_count": null,
      "outputs": [
        {
          "output_type": "execute_result",
          "data": {
            "text/plain": [
              "<tf.Tensor: shape=(2, 3, 4), dtype=int32, numpy=\n",
              "array([[[ 0,  1,  2,  3],\n",
              "        [ 4,  5,  6,  7],\n",
              "        [ 8,  9, 10, 11]],\n",
              "\n",
              "       [[12, 13, 14, 15],\n",
              "        [16, 17, 18, 19],\n",
              "        [20, 21, 22, 23]]], dtype=int32)>"
            ]
          },
          "metadata": {},
          "execution_count": 45
        }
      ]
    },
    {
      "cell_type": "code",
      "source": [
        "rank_3_tensor[..., -1]"
      ],
      "metadata": {
        "colab": {
          "base_uri": "https://localhost:8080/"
        },
        "id": "P0Uz28W_Qwxo",
        "outputId": "45b3dce7-9f8a-41dc-9bd7-ac8028cc77e0"
      },
      "execution_count": null,
      "outputs": [
        {
          "output_type": "execute_result",
          "data": {
            "text/plain": [
              "<tf.Tensor: shape=(2, 3), dtype=int32, numpy=\n",
              "array([[ 3,  7, 11],\n",
              "       [15, 19, 23]], dtype=int32)>"
            ]
          },
          "metadata": {},
          "execution_count": 46
        }
      ]
    },
    {
      "cell_type": "code",
      "source": [
        "rank_3_tensor[:, :, -1]"
      ],
      "metadata": {
        "colab": {
          "base_uri": "https://localhost:8080/"
        },
        "id": "z-7pN0xKQ4va",
        "outputId": "0f6a8881-cf22-4d48-bde8-e85a085a0b8c"
      },
      "execution_count": null,
      "outputs": [
        {
          "output_type": "execute_result",
          "data": {
            "text/plain": [
              "<tf.Tensor: shape=(2, 3), dtype=int32, numpy=\n",
              "array([[ 3,  7, 11],\n",
              "       [15, 19, 23]], dtype=int32)>"
            ]
          },
          "metadata": {},
          "execution_count": 47
        }
      ]
    },
    {
      "cell_type": "code",
      "source": [
        "# Add in extra dimension to our rank 2 tensor\n",
        "rank_3_tensor = rank_2_tensor[..., tf.newaxis]\n",
        "rank_3_tensor"
      ],
      "metadata": {
        "colab": {
          "base_uri": "https://localhost:8080/"
        },
        "id": "sKT1SWOlPqYH",
        "outputId": "b39b41a3-01e7-42fc-e03c-1e3046193eed"
      },
      "execution_count": null,
      "outputs": [
        {
          "output_type": "execute_result",
          "data": {
            "text/plain": [
              "<tf.Tensor: shape=(2, 2, 1), dtype=int32, numpy=\n",
              "array([[[10],\n",
              "        [ 7]],\n",
              "\n",
              "       [[ 3],\n",
              "        [ 4]]], dtype=int32)>"
            ]
          },
          "metadata": {},
          "execution_count": 48
        }
      ]
    },
    {
      "cell_type": "code",
      "source": [
        "# Alternative to tf.newaxis\n",
        "tf.expand_dims(rank_2_tensor, axis=-1) # -1 means expand the final axis"
      ],
      "metadata": {
        "colab": {
          "base_uri": "https://localhost:8080/"
        },
        "id": "ENZQ4SWwQFeJ",
        "outputId": "cb5bbe61-b860-4219-b335-3526f1b4669f"
      },
      "execution_count": null,
      "outputs": [
        {
          "output_type": "execute_result",
          "data": {
            "text/plain": [
              "<tf.Tensor: shape=(2, 2, 1), dtype=int32, numpy=\n",
              "array([[[10],\n",
              "        [ 7]],\n",
              "\n",
              "       [[ 3],\n",
              "        [ 4]]], dtype=int32)>"
            ]
          },
          "metadata": {},
          "execution_count": 49
        }
      ]
    },
    {
      "cell_type": "code",
      "source": [
        "# Expand the 0-axis\n",
        "tf.expand_dims(rank_2_tensor, axis=0) # expand the 0-axis"
      ],
      "metadata": {
        "colab": {
          "base_uri": "https://localhost:8080/"
        },
        "id": "aRYxArqZTMbN",
        "outputId": "1b88fed1-d36c-47ba-d604-86414d30a55e"
      },
      "execution_count": null,
      "outputs": [
        {
          "output_type": "execute_result",
          "data": {
            "text/plain": [
              "<tf.Tensor: shape=(1, 2, 2), dtype=int32, numpy=\n",
              "array([[[10,  7],\n",
              "        [ 3,  4]]], dtype=int32)>"
            ]
          },
          "metadata": {},
          "execution_count": 50
        }
      ]
    },
    {
      "cell_type": "code",
      "source": [
        "rank_2_tensor"
      ],
      "metadata": {
        "colab": {
          "base_uri": "https://localhost:8080/"
        },
        "id": "SaVvN6a7TcVd",
        "outputId": "ec0b2e93-5852-4c91-b223-73038665be19"
      },
      "execution_count": null,
      "outputs": [
        {
          "output_type": "execute_result",
          "data": {
            "text/plain": [
              "<tf.Tensor: shape=(2, 2), dtype=int32, numpy=\n",
              "array([[10,  7],\n",
              "       [ 3,  4]], dtype=int32)>"
            ]
          },
          "metadata": {},
          "execution_count": 51
        }
      ]
    },
    {
      "cell_type": "markdown",
      "source": [
        "## Manipulating tensors with basic operation (tensor operations)\n",
        "\n",
        "**Basic Operations**\n",
        "\n",
        "`+`, `-`, `*`, `/`"
      ],
      "metadata": {
        "id": "1Kv4JI5iThAc"
      }
    },
    {
      "cell_type": "code",
      "source": [
        "# You can add values to a tensor using the addition operator\n",
        "tensor = tf.constant([[10, 7],\n",
        "                      [3, 4]])\n",
        "tensor + 10"
      ],
      "metadata": {
        "colab": {
          "base_uri": "https://localhost:8080/"
        },
        "id": "wJx0yuFwUcNJ",
        "outputId": "abb7bb1a-41a7-48c7-96f6-69a2d8f8293e"
      },
      "execution_count": null,
      "outputs": [
        {
          "output_type": "execute_result",
          "data": {
            "text/plain": [
              "<tf.Tensor: shape=(2, 2), dtype=int32, numpy=\n",
              "array([[20, 17],\n",
              "       [13, 14]], dtype=int32)>"
            ]
          },
          "metadata": {},
          "execution_count": 52
        }
      ]
    },
    {
      "cell_type": "code",
      "source": [
        "# Original tensor is unchanged\n",
        "tensor"
      ],
      "metadata": {
        "colab": {
          "base_uri": "https://localhost:8080/"
        },
        "id": "UnAx6CIHZtIX",
        "outputId": "fbfa856e-255a-445f-f55c-3e14c03744fb"
      },
      "execution_count": null,
      "outputs": [
        {
          "output_type": "execute_result",
          "data": {
            "text/plain": [
              "<tf.Tensor: shape=(2, 2), dtype=int32, numpy=\n",
              "array([[10,  7],\n",
              "       [ 3,  4]], dtype=int32)>"
            ]
          },
          "metadata": {},
          "execution_count": 53
        }
      ]
    },
    {
      "cell_type": "code",
      "source": [
        "# Unless you do\n",
        "tensor2 = tensor + 10\n",
        "tensor2"
      ],
      "metadata": {
        "colab": {
          "base_uri": "https://localhost:8080/"
        },
        "id": "uFasKLrSZx6z",
        "outputId": "e5799c10-4bbd-4616-c7d5-49c40d016a43"
      },
      "execution_count": null,
      "outputs": [
        {
          "output_type": "execute_result",
          "data": {
            "text/plain": [
              "<tf.Tensor: shape=(2, 2), dtype=int32, numpy=\n",
              "array([[20, 17],\n",
              "       [13, 14]], dtype=int32)>"
            ]
          },
          "metadata": {},
          "execution_count": 54
        }
      ]
    },
    {
      "cell_type": "code",
      "source": [
        "# Multiplication aslo works\n",
        "tensor * 10"
      ],
      "metadata": {
        "colab": {
          "base_uri": "https://localhost:8080/"
        },
        "id": "ZQgeENNgZ5qT",
        "outputId": "0207bda2-b0d2-452f-9a36-31022bb63c49"
      },
      "execution_count": null,
      "outputs": [
        {
          "output_type": "execute_result",
          "data": {
            "text/plain": [
              "<tf.Tensor: shape=(2, 2), dtype=int32, numpy=\n",
              "array([[100,  70],\n",
              "       [ 30,  40]], dtype=int32)>"
            ]
          },
          "metadata": {},
          "execution_count": 55
        }
      ]
    },
    {
      "cell_type": "code",
      "source": [
        "# Subtraction if you want\n",
        "tensor - 10"
      ],
      "metadata": {
        "colab": {
          "base_uri": "https://localhost:8080/"
        },
        "id": "zOItnvCzaBPY",
        "outputId": "59bbc625-7996-48a9-e3af-6b8e3aa199e9"
      },
      "execution_count": null,
      "outputs": [
        {
          "output_type": "execute_result",
          "data": {
            "text/plain": [
              "<tf.Tensor: shape=(2, 2), dtype=int32, numpy=\n",
              "array([[ 0, -3],\n",
              "       [-7, -6]], dtype=int32)>"
            ]
          },
          "metadata": {},
          "execution_count": 56
        }
      ]
    },
    {
      "cell_type": "code",
      "source": [
        "# We can use the tensorflow built-in functions too\n",
        "tf.multiply(tensor, 10)"
      ],
      "metadata": {
        "colab": {
          "base_uri": "https://localhost:8080/"
        },
        "id": "dhZ5EHvhaHjP",
        "outputId": "4f054da2-b096-4ad5-9ac0-96ac004b0663"
      },
      "execution_count": null,
      "outputs": [
        {
          "output_type": "execute_result",
          "data": {
            "text/plain": [
              "<tf.Tensor: shape=(2, 2), dtype=int32, numpy=\n",
              "array([[100,  70],\n",
              "       [ 30,  40]], dtype=int32)>"
            ]
          },
          "metadata": {},
          "execution_count": 57
        }
      ]
    },
    {
      "cell_type": "code",
      "source": [
        "tf.add(tensor, 10)"
      ],
      "metadata": {
        "colab": {
          "base_uri": "https://localhost:8080/"
        },
        "id": "MQozdD6EahLM",
        "outputId": "8a2fabba-9560-4dde-d84a-aa523ee3f6fd"
      },
      "execution_count": null,
      "outputs": [
        {
          "output_type": "execute_result",
          "data": {
            "text/plain": [
              "<tf.Tensor: shape=(2, 2), dtype=int32, numpy=\n",
              "array([[20, 17],\n",
              "       [13, 14]], dtype=int32)>"
            ]
          },
          "metadata": {},
          "execution_count": 58
        }
      ]
    },
    {
      "cell_type": "code",
      "source": [
        "tf.subtract(tensor, 10)"
      ],
      "metadata": {
        "colab": {
          "base_uri": "https://localhost:8080/"
        },
        "id": "pauyPkqUat6E",
        "outputId": "42907bea-5aae-4ea9-e41b-1b04f936d5ac"
      },
      "execution_count": null,
      "outputs": [
        {
          "output_type": "execute_result",
          "data": {
            "text/plain": [
              "<tf.Tensor: shape=(2, 2), dtype=int32, numpy=\n",
              "array([[ 0, -3],\n",
              "       [-7, -6]], dtype=int32)>"
            ]
          },
          "metadata": {},
          "execution_count": 59
        }
      ]
    },
    {
      "cell_type": "markdown",
      "source": [
        "## Matrix multiplication with tensors part 1\n",
        "\n",
        "In machine learning, matrix multiplication is one of the most common tensor operations.\n",
        "\n",
        "Ther are two rules our tensors (or matrices) need to fulfill if we're going to matrix multiply them\n",
        "\n",
        "1. The inner dimension must match\n",
        "2. The resulting matrix has the shape of the outter dimensions"
      ],
      "metadata": {
        "id": "PT8GlOqAa5KF"
      }
    },
    {
      "cell_type": "code",
      "source": [
        "# Matrix multiplication in tensorflow\n",
        "print(tensor)\n",
        "tf.matmul(tensor, tensor)"
      ],
      "metadata": {
        "colab": {
          "base_uri": "https://localhost:8080/"
        },
        "id": "LHtdhMKWa9ZN",
        "outputId": "218f3178-0ccf-40ce-b288-0549fbcf43f5"
      },
      "execution_count": null,
      "outputs": [
        {
          "output_type": "stream",
          "name": "stdout",
          "text": [
            "tf.Tensor(\n",
            "[[10  7]\n",
            " [ 3  4]], shape=(2, 2), dtype=int32)\n"
          ]
        },
        {
          "output_type": "execute_result",
          "data": {
            "text/plain": [
              "<tf.Tensor: shape=(2, 2), dtype=int32, numpy=\n",
              "array([[121,  98],\n",
              "       [ 42,  37]], dtype=int32)>"
            ]
          },
          "metadata": {},
          "execution_count": 60
        }
      ]
    },
    {
      "cell_type": "code",
      "source": [
        "tensor, tensor"
      ],
      "metadata": {
        "colab": {
          "base_uri": "https://localhost:8080/"
        },
        "id": "O9uN-AmNca8E",
        "outputId": "ad2b259f-b719-4bce-d6e0-bbc8525ad4d7"
      },
      "execution_count": null,
      "outputs": [
        {
          "output_type": "execute_result",
          "data": {
            "text/plain": [
              "(<tf.Tensor: shape=(2, 2), dtype=int32, numpy=\n",
              " array([[10,  7],\n",
              "        [ 3,  4]], dtype=int32)>,\n",
              " <tf.Tensor: shape=(2, 2), dtype=int32, numpy=\n",
              " array([[10,  7],\n",
              "        [ 3,  4]], dtype=int32)>)"
            ]
          },
          "metadata": {},
          "execution_count": 61
        }
      ]
    },
    {
      "cell_type": "code",
      "source": [
        "tensor * tensor"
      ],
      "metadata": {
        "colab": {
          "base_uri": "https://localhost:8080/"
        },
        "id": "wp1MCYd7cXZw",
        "outputId": "06a91e24-d075-47d2-9787-ef50246b006b"
      },
      "execution_count": null,
      "outputs": [
        {
          "output_type": "execute_result",
          "data": {
            "text/plain": [
              "<tf.Tensor: shape=(2, 2), dtype=int32, numpy=\n",
              "array([[100,  49],\n",
              "       [  9,  16]], dtype=int32)>"
            ]
          },
          "metadata": {},
          "execution_count": 62
        }
      ]
    },
    {
      "cell_type": "code",
      "source": [
        "# Matrix multiplication with Python operator \"@\"\n",
        "tensor @ tensor"
      ],
      "metadata": {
        "colab": {
          "base_uri": "https://localhost:8080/"
        },
        "id": "B3ZcNs9tcOwf",
        "outputId": "e0cb3c3c-1698-4185-b0b2-673c5f32ad37"
      },
      "execution_count": null,
      "outputs": [
        {
          "output_type": "execute_result",
          "data": {
            "text/plain": [
              "<tf.Tensor: shape=(2, 2), dtype=int32, numpy=\n",
              "array([[121,  98],\n",
              "       [ 42,  37]], dtype=int32)>"
            ]
          },
          "metadata": {},
          "execution_count": 63
        }
      ]
    },
    {
      "cell_type": "code",
      "source": [
        "tensor.shape"
      ],
      "metadata": {
        "colab": {
          "base_uri": "https://localhost:8080/"
        },
        "id": "kQiF8xdYcohj",
        "outputId": "fb906317-4d2b-4781-9bf0-93767130e657"
      },
      "execution_count": null,
      "outputs": [
        {
          "output_type": "execute_result",
          "data": {
            "text/plain": [
              "TensorShape([2, 2])"
            ]
          },
          "metadata": {},
          "execution_count": 64
        }
      ]
    },
    {
      "cell_type": "code",
      "source": [
        "# Create a tensor of (3, 2).\n",
        "X = tf.constant([[1, 2],\n",
        "                 [3, 4],\n",
        "                 [5, 6]])\n",
        "Y = tf.constant([[7, 8],\n",
        "                 [9, 10],\n",
        "                 [11, 12]])\n",
        "X, Y"
      ],
      "metadata": {
        "colab": {
          "base_uri": "https://localhost:8080/"
        },
        "id": "uXjS5ZBMcsbh",
        "outputId": "9113cdb1-273d-4b6d-8359-5974e3e2e9a0"
      },
      "execution_count": null,
      "outputs": [
        {
          "output_type": "execute_result",
          "data": {
            "text/plain": [
              "(<tf.Tensor: shape=(3, 2), dtype=int32, numpy=\n",
              " array([[1, 2],\n",
              "        [3, 4],\n",
              "        [5, 6]], dtype=int32)>,\n",
              " <tf.Tensor: shape=(3, 2), dtype=int32, numpy=\n",
              " array([[ 7,  8],\n",
              "        [ 9, 10],\n",
              "        [11, 12]], dtype=int32)>)"
            ]
          },
          "metadata": {},
          "execution_count": 65
        }
      ]
    },
    {
      "cell_type": "code",
      "source": [
        "# Try to matrix multiply tensors of same shape\n",
        "# tf.matmul(X, Y) # won't work because the inner dimension don't match"
      ],
      "metadata": {
        "id": "BbOeQu_GdBEx"
      },
      "execution_count": null,
      "outputs": []
    },
    {
      "cell_type": "markdown",
      "source": [
        "**📖Resource:** Info and example of matrix multiplication: https://www.mathsisfun.com/algebra/matrix-multiplying.html"
      ],
      "metadata": {
        "id": "fdsWziYTdF2i"
      }
    },
    {
      "cell_type": "markdown",
      "source": [
        "## Matrix multiplication with tensors part 2"
      ],
      "metadata": {
        "id": "AUM_83fydnWn"
      }
    },
    {
      "cell_type": "code",
      "source": [
        "Y"
      ],
      "metadata": {
        "colab": {
          "base_uri": "https://localhost:8080/"
        },
        "id": "YE9hoyXUfDo1",
        "outputId": "bb51a66a-79e7-4512-fd0c-eb36eda79349"
      },
      "execution_count": null,
      "outputs": [
        {
          "output_type": "execute_result",
          "data": {
            "text/plain": [
              "<tf.Tensor: shape=(3, 2), dtype=int32, numpy=\n",
              "array([[ 7,  8],\n",
              "       [ 9, 10],\n",
              "       [11, 12]], dtype=int32)>"
            ]
          },
          "metadata": {},
          "execution_count": 67
        }
      ]
    },
    {
      "cell_type": "code",
      "source": [
        "# Let's change the shape of Y\n",
        "tf.reshape(Y, shape=(2, 3))"
      ],
      "metadata": {
        "colab": {
          "base_uri": "https://localhost:8080/"
        },
        "id": "oJ98Gz12ePPn",
        "outputId": "2c01ac3a-3fe4-4d5c-b2fb-4e087885826f"
      },
      "execution_count": null,
      "outputs": [
        {
          "output_type": "execute_result",
          "data": {
            "text/plain": [
              "<tf.Tensor: shape=(2, 3), dtype=int32, numpy=\n",
              "array([[ 7,  8,  9],\n",
              "       [10, 11, 12]], dtype=int32)>"
            ]
          },
          "metadata": {},
          "execution_count": 68
        }
      ]
    },
    {
      "cell_type": "code",
      "source": [
        "X.shape, tf.reshape(Y, shape=(2, 3)).shape"
      ],
      "metadata": {
        "colab": {
          "base_uri": "https://localhost:8080/"
        },
        "id": "QL7gR_0LfUOH",
        "outputId": "9f593eeb-1d76-4711-b7ac-c60189ea89d7"
      },
      "execution_count": null,
      "outputs": [
        {
          "output_type": "execute_result",
          "data": {
            "text/plain": [
              "(TensorShape([3, 2]), TensorShape([2, 3]))"
            ]
          },
          "metadata": {},
          "execution_count": 69
        }
      ]
    },
    {
      "cell_type": "code",
      "source": [
        "# Try to matrix multiply X by reshape Y\n",
        "X @ tf.reshape(Y, shape=(2, 3))"
      ],
      "metadata": {
        "colab": {
          "base_uri": "https://localhost:8080/"
        },
        "id": "7pKIKsrSfHMo",
        "outputId": "8f52dad1-9531-4b60-bb4d-85241f253658"
      },
      "execution_count": null,
      "outputs": [
        {
          "output_type": "execute_result",
          "data": {
            "text/plain": [
              "<tf.Tensor: shape=(3, 3), dtype=int32, numpy=\n",
              "array([[ 27,  30,  33],\n",
              "       [ 61,  68,  75],\n",
              "       [ 95, 106, 117]], dtype=int32)>"
            ]
          },
          "metadata": {},
          "execution_count": 70
        }
      ]
    },
    {
      "cell_type": "code",
      "source": [
        "tf.matmul(X, tf.reshape(Y, shape=(2, 3)))"
      ],
      "metadata": {
        "colab": {
          "base_uri": "https://localhost:8080/"
        },
        "id": "sQ49JwNgfaG_",
        "outputId": "eafaf6dd-9477-4578-e5a3-e0a2f5a55fbd"
      },
      "execution_count": null,
      "outputs": [
        {
          "output_type": "execute_result",
          "data": {
            "text/plain": [
              "<tf.Tensor: shape=(3, 3), dtype=int32, numpy=\n",
              "array([[ 27,  30,  33],\n",
              "       [ 61,  68,  75],\n",
              "       [ 95, 106, 117]], dtype=int32)>"
            ]
          },
          "metadata": {},
          "execution_count": 71
        }
      ]
    },
    {
      "cell_type": "code",
      "source": [
        "tf.reshape(X, shape=(2, 3)).shape, Y.shape"
      ],
      "metadata": {
        "colab": {
          "base_uri": "https://localhost:8080/"
        },
        "id": "qbp64tAKfzNk",
        "outputId": "7581720b-9461-42ea-b987-777e1521fec2"
      },
      "execution_count": null,
      "outputs": [
        {
          "output_type": "execute_result",
          "data": {
            "text/plain": [
              "(TensorShape([2, 3]), TensorShape([3, 2]))"
            ]
          },
          "metadata": {},
          "execution_count": 72
        }
      ]
    },
    {
      "cell_type": "code",
      "source": [
        "# Try change the shape of X insated of Y\n",
        "tf.matmul(tf.reshape(X, shape=(2, 3)), Y)"
      ],
      "metadata": {
        "colab": {
          "base_uri": "https://localhost:8080/"
        },
        "id": "AesbsDuafeiV",
        "outputId": "f5c954cf-096c-43d8-8a72-d5be9be17abe"
      },
      "execution_count": null,
      "outputs": [
        {
          "output_type": "execute_result",
          "data": {
            "text/plain": [
              "<tf.Tensor: shape=(2, 2), dtype=int32, numpy=\n",
              "array([[ 58,  64],\n",
              "       [139, 154]], dtype=int32)>"
            ]
          },
          "metadata": {},
          "execution_count": 73
        }
      ]
    },
    {
      "cell_type": "code",
      "source": [
        "# You can do the same with transpose\n",
        "X, tf.transpose(X), tf.reshape(X, shape=(2, 3))"
      ],
      "metadata": {
        "colab": {
          "base_uri": "https://localhost:8080/"
        },
        "id": "g-RCLck3flnv",
        "outputId": "a1ac0fac-555d-43dc-bd08-012ce3380cda"
      },
      "execution_count": null,
      "outputs": [
        {
          "output_type": "execute_result",
          "data": {
            "text/plain": [
              "(<tf.Tensor: shape=(3, 2), dtype=int32, numpy=\n",
              " array([[1, 2],\n",
              "        [3, 4],\n",
              "        [5, 6]], dtype=int32)>,\n",
              " <tf.Tensor: shape=(2, 3), dtype=int32, numpy=\n",
              " array([[1, 3, 5],\n",
              "        [2, 4, 6]], dtype=int32)>,\n",
              " <tf.Tensor: shape=(2, 3), dtype=int32, numpy=\n",
              " array([[1, 2, 3],\n",
              "        [4, 5, 6]], dtype=int32)>)"
            ]
          },
          "metadata": {},
          "execution_count": 74
        }
      ]
    },
    {
      "cell_type": "code",
      "source": [
        "# Try matrix multiplication with transpose rather than reshpae\n",
        "tf.matmul(tf.transpose(X), Y)"
      ],
      "metadata": {
        "colab": {
          "base_uri": "https://localhost:8080/"
        },
        "id": "qcTEpVRFgHy3",
        "outputId": "3cef6382-5d3d-4fad-c502-210b7a19512f"
      },
      "execution_count": null,
      "outputs": [
        {
          "output_type": "execute_result",
          "data": {
            "text/plain": [
              "<tf.Tensor: shape=(2, 2), dtype=int32, numpy=\n",
              "array([[ 89,  98],\n",
              "       [116, 128]], dtype=int32)>"
            ]
          },
          "metadata": {},
          "execution_count": 75
        }
      ]
    },
    {
      "cell_type": "markdown",
      "source": [
        "## Matrix multiplication witn tensors part 3\n",
        "\n",
        "**The dot product**\n",
        "\n",
        "Matrix multiplication is also referred to as the dot product.\n",
        "\n",
        "You can perfom matrix multiplication using:\n",
        "* `tf.matmul`\n",
        "* `tf.tensordot()`\n",
        "* `@`"
      ],
      "metadata": {
        "id": "p8JtelHFglz9"
      }
    },
    {
      "cell_type": "code",
      "source": [
        "X, Y"
      ],
      "metadata": {
        "colab": {
          "base_uri": "https://localhost:8080/"
        },
        "id": "dy0MM4RPhZ4A",
        "outputId": "d2ab31d0-b57d-4834-b779-2c90b5c95673"
      },
      "execution_count": null,
      "outputs": [
        {
          "output_type": "execute_result",
          "data": {
            "text/plain": [
              "(<tf.Tensor: shape=(3, 2), dtype=int32, numpy=\n",
              " array([[1, 2],\n",
              "        [3, 4],\n",
              "        [5, 6]], dtype=int32)>,\n",
              " <tf.Tensor: shape=(3, 2), dtype=int32, numpy=\n",
              " array([[ 7,  8],\n",
              "        [ 9, 10],\n",
              "        [11, 12]], dtype=int32)>)"
            ]
          },
          "metadata": {},
          "execution_count": 76
        }
      ]
    },
    {
      "cell_type": "code",
      "source": [
        "# Perfom the dot product on X and Y (requires X or Y to be transposed)\n",
        "tf.tensordot(tf.transpose(X), Y, axes=1)"
      ],
      "metadata": {
        "colab": {
          "base_uri": "https://localhost:8080/"
        },
        "id": "Rlyr5Gp7g87T",
        "outputId": "e3dd2e7b-6a97-45fc-df8f-ffad53faa7df"
      },
      "execution_count": null,
      "outputs": [
        {
          "output_type": "execute_result",
          "data": {
            "text/plain": [
              "<tf.Tensor: shape=(2, 2), dtype=int32, numpy=\n",
              "array([[ 89,  98],\n",
              "       [116, 128]], dtype=int32)>"
            ]
          },
          "metadata": {},
          "execution_count": 77
        }
      ]
    },
    {
      "cell_type": "code",
      "source": [
        "# Perform matrix multiplication between X and Y (transposed)\n",
        "tf.matmul(X, tf.transpose(Y))"
      ],
      "metadata": {
        "colab": {
          "base_uri": "https://localhost:8080/"
        },
        "id": "u8M65nrFheSl",
        "outputId": "633634fa-d248-4f9d-c31f-19da181a0b4f"
      },
      "execution_count": null,
      "outputs": [
        {
          "output_type": "execute_result",
          "data": {
            "text/plain": [
              "<tf.Tensor: shape=(3, 3), dtype=int32, numpy=\n",
              "array([[ 23,  29,  35],\n",
              "       [ 53,  67,  81],\n",
              "       [ 83, 105, 127]], dtype=int32)>"
            ]
          },
          "metadata": {},
          "execution_count": 78
        }
      ]
    },
    {
      "cell_type": "code",
      "source": [
        "# Perform matrix multiplication between X and Y (reshaped)\n",
        "tf.matmul(X, tf.reshape(Y, shape=(2, 3)))"
      ],
      "metadata": {
        "colab": {
          "base_uri": "https://localhost:8080/"
        },
        "id": "UdTxE61Ph1Md",
        "outputId": "f8db058f-19be-4e9f-d9e9-f2ec749787a7"
      },
      "execution_count": null,
      "outputs": [
        {
          "output_type": "execute_result",
          "data": {
            "text/plain": [
              "<tf.Tensor: shape=(3, 3), dtype=int32, numpy=\n",
              "array([[ 27,  30,  33],\n",
              "       [ 61,  68,  75],\n",
              "       [ 95, 106, 117]], dtype=int32)>"
            ]
          },
          "metadata": {},
          "execution_count": 79
        }
      ]
    },
    {
      "cell_type": "code",
      "source": [
        "# Check the values of Y, reshape Y and transposed Y\n",
        "print(\"Normal Y:\")\n",
        "print(Y, \"\\n\") # \"\\n\" is for newline\n",
        "\n",
        "print(\"Y respahed to (2, 3):\")\n",
        "print(tf.reshape(Y, shape=(2, 3)), \"\\n\")\n",
        "\n",
        "print(\"Y transposed:\")\n",
        "print(tf.transpose(Y))"
      ],
      "metadata": {
        "colab": {
          "base_uri": "https://localhost:8080/"
        },
        "id": "GRFpmthNh8AE",
        "outputId": "f62fde9c-e377-4c27-e2c7-90910bf31a0d"
      },
      "execution_count": null,
      "outputs": [
        {
          "output_type": "stream",
          "name": "stdout",
          "text": [
            "Normal Y:\n",
            "tf.Tensor(\n",
            "[[ 7  8]\n",
            " [ 9 10]\n",
            " [11 12]], shape=(3, 2), dtype=int32) \n",
            "\n",
            "Y respahed to (2, 3):\n",
            "tf.Tensor(\n",
            "[[ 7  8  9]\n",
            " [10 11 12]], shape=(2, 3), dtype=int32) \n",
            "\n",
            "Y transposed:\n",
            "tf.Tensor(\n",
            "[[ 7  9 11]\n",
            " [ 8 10 12]], shape=(2, 3), dtype=int32)\n"
          ]
        }
      ]
    },
    {
      "cell_type": "code",
      "source": [
        "tf.matmul(X, tf.transpose(Y))"
      ],
      "metadata": {
        "colab": {
          "base_uri": "https://localhost:8080/"
        },
        "id": "Jqz0GTFDiYSw",
        "outputId": "83271976-99ee-4a7b-daa8-1942a320e207"
      },
      "execution_count": null,
      "outputs": [
        {
          "output_type": "execute_result",
          "data": {
            "text/plain": [
              "<tf.Tensor: shape=(3, 3), dtype=int32, numpy=\n",
              "array([[ 23,  29,  35],\n",
              "       [ 53,  67,  81],\n",
              "       [ 83, 105, 127]], dtype=int32)>"
            ]
          },
          "metadata": {},
          "execution_count": 81
        }
      ]
    },
    {
      "cell_type": "markdown",
      "source": [
        "**🔑Note:** Generally, when performing matrix multiplication on two tensors and one of the axes doesn't line up, you will transpose (rather than reshape) one of the tensors to satisfy the matrix multiplication rules."
      ],
      "metadata": {
        "id": "HWu1j4uFiweP"
      }
    },
    {
      "cell_type": "markdown",
      "source": [
        "## Changing the datatype of tensors"
      ],
      "metadata": {
        "id": "sbdL0GkMijTI"
      }
    },
    {
      "cell_type": "code",
      "source": [
        "tf.__version__"
      ],
      "metadata": {
        "colab": {
          "base_uri": "https://localhost:8080/",
          "height": 35
        },
        "id": "eep9k2j4zsD3",
        "outputId": "913afd29-5736-4da7-a0ed-5c0fafa50e93"
      },
      "execution_count": null,
      "outputs": [
        {
          "output_type": "execute_result",
          "data": {
            "text/plain": [
              "'2.15.0'"
            ],
            "application/vnd.google.colaboratory.intrinsic+json": {
              "type": "string"
            }
          },
          "metadata": {},
          "execution_count": 82
        }
      ]
    },
    {
      "cell_type": "code",
      "source": [
        "# Create a new tensor with default datatype (float32)\n",
        "B = tf.constant([1.7, 7.4])\n",
        "B, B.dtype"
      ],
      "metadata": {
        "colab": {
          "base_uri": "https://localhost:8080/"
        },
        "id": "tcsOY0Aeiord",
        "outputId": "3ba336ca-a00b-455a-a812-33fccbfc32d7"
      },
      "execution_count": null,
      "outputs": [
        {
          "output_type": "execute_result",
          "data": {
            "text/plain": [
              "(<tf.Tensor: shape=(2,), dtype=float32, numpy=array([1.7, 7.4], dtype=float32)>,\n",
              " tf.float32)"
            ]
          },
          "metadata": {},
          "execution_count": 83
        }
      ]
    },
    {
      "cell_type": "code",
      "source": [
        "C = tf.constant([7, 10])\n",
        "C, C.dtype"
      ],
      "metadata": {
        "colab": {
          "base_uri": "https://localhost:8080/"
        },
        "id": "U2eBSlTFzmee",
        "outputId": "57c37dfc-0cd3-4ef2-ad33-bdbb90deeca7"
      },
      "execution_count": null,
      "outputs": [
        {
          "output_type": "execute_result",
          "data": {
            "text/plain": [
              "(<tf.Tensor: shape=(2,), dtype=int32, numpy=array([ 7, 10], dtype=int32)>,\n",
              " tf.int32)"
            ]
          },
          "metadata": {},
          "execution_count": 84
        }
      ]
    },
    {
      "cell_type": "code",
      "source": [
        "# Change from float32 to float16 (reduced precision)\n",
        "D = tf.cast(B, dtype=tf.float16)\n",
        "D, D.dtype"
      ],
      "metadata": {
        "colab": {
          "base_uri": "https://localhost:8080/"
        },
        "id": "0_Pvb8qtzqaB",
        "outputId": "39765f47-3a7e-4697-cdf7-ae7156b6a971"
      },
      "execution_count": null,
      "outputs": [
        {
          "output_type": "execute_result",
          "data": {
            "text/plain": [
              "(<tf.Tensor: shape=(2,), dtype=float16, numpy=array([1.7, 7.4], dtype=float16)>,\n",
              " tf.float16)"
            ]
          },
          "metadata": {},
          "execution_count": 85
        }
      ]
    },
    {
      "cell_type": "code",
      "source": [
        "# Change from int32 to float32\n",
        "E = tf.cast(C, dtype=tf.float32)\n",
        "E, E.dtype"
      ],
      "metadata": {
        "colab": {
          "base_uri": "https://localhost:8080/"
        },
        "id": "cPvpscb20YqD",
        "outputId": "e79c861b-9c30-4fde-db81-14cb98f19c8e"
      },
      "execution_count": null,
      "outputs": [
        {
          "output_type": "execute_result",
          "data": {
            "text/plain": [
              "(<tf.Tensor: shape=(2,), dtype=float32, numpy=array([ 7., 10.], dtype=float32)>,\n",
              " tf.float32)"
            ]
          },
          "metadata": {},
          "execution_count": 86
        }
      ]
    },
    {
      "cell_type": "code",
      "source": [
        "E_float16 = tf.cast(E, dtype=tf.float16)\n",
        "E_float16"
      ],
      "metadata": {
        "colab": {
          "base_uri": "https://localhost:8080/"
        },
        "id": "r9wioFQC0xcA",
        "outputId": "1edca22c-7a63-49b2-c646-51f0f11356fb"
      },
      "execution_count": null,
      "outputs": [
        {
          "output_type": "execute_result",
          "data": {
            "text/plain": [
              "<tf.Tensor: shape=(2,), dtype=float16, numpy=array([ 7., 10.], dtype=float16)>"
            ]
          },
          "metadata": {},
          "execution_count": 87
        }
      ]
    },
    {
      "cell_type": "markdown",
      "source": [
        "## Tensor aggregation (finding the min, max, mean & more)\n",
        "\n",
        "Aggregating tensors = condesning them from multiple values down to a smaller amount of values."
      ],
      "metadata": {
        "id": "qSHJ1mJu09KK"
      }
    },
    {
      "cell_type": "code",
      "source": [
        "# Create a new tensor\n",
        "D = tf.constant([-7, -10])\n",
        "D"
      ],
      "metadata": {
        "colab": {
          "base_uri": "https://localhost:8080/"
        },
        "id": "J7vFAUia1D2O",
        "outputId": "92aab330-ccd1-4b56-9be0-342d0d1ff774"
      },
      "execution_count": null,
      "outputs": [
        {
          "output_type": "execute_result",
          "data": {
            "text/plain": [
              "<tf.Tensor: shape=(2,), dtype=int32, numpy=array([ -7, -10], dtype=int32)>"
            ]
          },
          "metadata": {},
          "execution_count": 88
        }
      ]
    },
    {
      "cell_type": "code",
      "source": [
        "# Get the absolute values\n",
        "tf.abs(D)"
      ],
      "metadata": {
        "colab": {
          "base_uri": "https://localhost:8080/"
        },
        "id": "m6N8FSde16nT",
        "outputId": "2793eccf-2198-49b2-efd7-f327a9584018"
      },
      "execution_count": null,
      "outputs": [
        {
          "output_type": "execute_result",
          "data": {
            "text/plain": [
              "<tf.Tensor: shape=(2,), dtype=int32, numpy=array([ 7, 10], dtype=int32)>"
            ]
          },
          "metadata": {},
          "execution_count": 89
        }
      ]
    },
    {
      "cell_type": "markdown",
      "source": [
        "Let's go throught the following forms of aggregation:\n",
        "* Get the minimum\n",
        "* Get the maximum\n",
        "* Get the mean of a tensor\n",
        "* Get the sum of a tensor"
      ],
      "metadata": {
        "id": "LaRRYc_u2BzD"
      }
    },
    {
      "cell_type": "code",
      "source": [
        "# Create a random tensor with values between 0 and 100 of size 50\n",
        "E = tf.constant(np.random.randint(0, 100, size=50))\n",
        "E"
      ],
      "metadata": {
        "colab": {
          "base_uri": "https://localhost:8080/"
        },
        "id": "8zSOdDDs2V8h",
        "outputId": "ab066a55-cf28-4894-c9bd-01c914fec92f"
      },
      "execution_count": null,
      "outputs": [
        {
          "output_type": "execute_result",
          "data": {
            "text/plain": [
              "<tf.Tensor: shape=(50,), dtype=int64, numpy=\n",
              "array([76, 43, 99, 34, 22, 43, 11, 73, 65, 94, 86, 31,  3, 47, 82, 44, 80,\n",
              "       79, 98, 97, 85, 51, 82, 38, 44, 42, 79,  1, 60, 80, 77, 97, 92, 11,\n",
              "       94, 53, 97, 88,  0, 74, 31, 51, 27, 79, 69, 45, 90, 81,  1, 17])>"
            ]
          },
          "metadata": {},
          "execution_count": 90
        }
      ]
    },
    {
      "cell_type": "code",
      "source": [
        "tf.size(E), E.shape, E.ndim"
      ],
      "metadata": {
        "colab": {
          "base_uri": "https://localhost:8080/"
        },
        "id": "qmFfHEh02vqL",
        "outputId": "b38bdb2d-ef0d-4d2b-8c85-a8de20e21754"
      },
      "execution_count": null,
      "outputs": [
        {
          "output_type": "execute_result",
          "data": {
            "text/plain": [
              "(<tf.Tensor: shape=(), dtype=int32, numpy=50>, TensorShape([50]), 1)"
            ]
          },
          "metadata": {},
          "execution_count": 91
        }
      ]
    },
    {
      "cell_type": "code",
      "source": [
        "# Find the minimum\n",
        "tf.reduce_min(E)"
      ],
      "metadata": {
        "colab": {
          "base_uri": "https://localhost:8080/"
        },
        "id": "_5lzBFKi20PY",
        "outputId": "643dcbab-6212-484a-b51f-29fc1685ee4e"
      },
      "execution_count": null,
      "outputs": [
        {
          "output_type": "execute_result",
          "data": {
            "text/plain": [
              "<tf.Tensor: shape=(), dtype=int64, numpy=0>"
            ]
          },
          "metadata": {},
          "execution_count": 92
        }
      ]
    },
    {
      "cell_type": "code",
      "source": [
        "# Find the maximum\n",
        "tf.reduce_max(E)"
      ],
      "metadata": {
        "colab": {
          "base_uri": "https://localhost:8080/"
        },
        "id": "6NCp6SUE3BP3",
        "outputId": "8fe74b3e-bd43-4752-dcb8-44a42c4997ff"
      },
      "execution_count": null,
      "outputs": [
        {
          "output_type": "execute_result",
          "data": {
            "text/plain": [
              "<tf.Tensor: shape=(), dtype=int64, numpy=99>"
            ]
          },
          "metadata": {},
          "execution_count": 93
        }
      ]
    },
    {
      "cell_type": "code",
      "source": [
        "# Find the mean\n",
        "tf.reduce_mean(E)"
      ],
      "metadata": {
        "colab": {
          "base_uri": "https://localhost:8080/"
        },
        "id": "aA9LOr9q3FO6",
        "outputId": "56ec7ca1-51ac-4222-9f2b-c8be6a61a471"
      },
      "execution_count": null,
      "outputs": [
        {
          "output_type": "execute_result",
          "data": {
            "text/plain": [
              "<tf.Tensor: shape=(), dtype=int64, numpy=58>"
            ]
          },
          "metadata": {},
          "execution_count": 94
        }
      ]
    },
    {
      "cell_type": "code",
      "source": [
        "# Find the sum\n",
        "tf.reduce_sum(E)"
      ],
      "metadata": {
        "colab": {
          "base_uri": "https://localhost:8080/"
        },
        "id": "m2jRI0mj3N27",
        "outputId": "1116754b-5a12-45ec-8ac5-32527ab79446"
      },
      "execution_count": null,
      "outputs": [
        {
          "output_type": "execute_result",
          "data": {
            "text/plain": [
              "<tf.Tensor: shape=(), dtype=int64, numpy=2943>"
            ]
          },
          "metadata": {},
          "execution_count": 95
        }
      ]
    },
    {
      "cell_type": "markdown",
      "source": [
        "🔨**Exercies:** With what we've just learned, find the variance and standard deviation of our `E` tensor using TensorFlow methods."
      ],
      "metadata": {
        "id": "FsPC80b_3QIE"
      }
    },
    {
      "cell_type": "code",
      "source": [
        "E_float32 = tf.cast(E, dtype=tf.float32)\n",
        "tf.math.reduce_variance(E_float32)"
      ],
      "metadata": {
        "colab": {
          "base_uri": "https://localhost:8080/"
        },
        "id": "PJHiADB43e_z",
        "outputId": "839c6041-b521-480b-83f0-10582a0d64f9"
      },
      "execution_count": null,
      "outputs": [
        {
          "output_type": "execute_result",
          "data": {
            "text/plain": [
              "<tf.Tensor: shape=(), dtype=float32, numpy=909.8404>"
            ]
          },
          "metadata": {},
          "execution_count": 96
        }
      ]
    },
    {
      "cell_type": "code",
      "source": [
        "tf.math.reduce_std(E_float32)"
      ],
      "metadata": {
        "colab": {
          "base_uri": "https://localhost:8080/"
        },
        "id": "0EOXJJEj3yTw",
        "outputId": "dc1bad91-7b56-45ba-dd5e-4507406cffee"
      },
      "execution_count": null,
      "outputs": [
        {
          "output_type": "execute_result",
          "data": {
            "text/plain": [
              "<tf.Tensor: shape=(), dtype=float32, numpy=30.16356>"
            ]
          },
          "metadata": {},
          "execution_count": 97
        }
      ]
    },
    {
      "cell_type": "markdown",
      "source": [
        "## Tensor troubleshooting example"
      ],
      "metadata": {
        "id": "0IcsBi8n4tkU"
      }
    },
    {
      "cell_type": "code",
      "source": [
        "# Find the variance of our tensor\n",
        "# Another way to find the variance of our tensor, we need access to tensorflow_probability\n",
        "import tensorflow_probability as tfp\n",
        "tfp.stats.variance(E)"
      ],
      "metadata": {
        "colab": {
          "base_uri": "https://localhost:8080/"
        },
        "id": "TTFnNmhf44gr",
        "outputId": "21a26be2-86e3-4f35-ea0b-739e8f3031e3"
      },
      "execution_count": null,
      "outputs": [
        {
          "output_type": "execute_result",
          "data": {
            "text/plain": [
              "<tf.Tensor: shape=(), dtype=int64, numpy=910>"
            ]
          },
          "metadata": {},
          "execution_count": 98
        }
      ]
    },
    {
      "cell_type": "code",
      "source": [
        "# Find the variance\n",
        "tf.math.reduce_variance(tf.cast(E, dtype=tf.float32))"
      ],
      "metadata": {
        "colab": {
          "base_uri": "https://localhost:8080/"
        },
        "id": "m68m1AUr6har",
        "outputId": "ff74601d-bdc4-4a8f-dd65-9b982d7cb930"
      },
      "execution_count": null,
      "outputs": [
        {
          "output_type": "execute_result",
          "data": {
            "text/plain": [
              "<tf.Tensor: shape=(), dtype=float32, numpy=909.8404>"
            ]
          },
          "metadata": {},
          "execution_count": 99
        }
      ]
    },
    {
      "cell_type": "code",
      "source": [
        "# Find the standard deviation\n",
        "tf.math.reduce_std(tf.cast(E, dtype=tf.float32))"
      ],
      "metadata": {
        "colab": {
          "base_uri": "https://localhost:8080/"
        },
        "id": "DYK4CLQF49BW",
        "outputId": "4a8f289c-d338-4a9a-c151-6b672c37974e"
      },
      "execution_count": null,
      "outputs": [
        {
          "output_type": "execute_result",
          "data": {
            "text/plain": [
              "<tf.Tensor: shape=(), dtype=float32, numpy=30.16356>"
            ]
          },
          "metadata": {},
          "execution_count": 100
        }
      ]
    },
    {
      "cell_type": "markdown",
      "source": [
        "## Find the positional minimum and maximum of a tensor (argmin and argmax)\n",
        "\n",
        "Find the index of the maximum or minimum of a tensor"
      ],
      "metadata": {
        "id": "ppC3Rk9A5khm"
      }
    },
    {
      "cell_type": "code",
      "source": [
        "# Create a new tensor for finding postional minimum and maximum\n",
        "tf.random.set_seed(42)\n",
        "F = tf.random.uniform(shape=[50])\n",
        "F"
      ],
      "metadata": {
        "colab": {
          "base_uri": "https://localhost:8080/"
        },
        "id": "npX2Dv4U6W3l",
        "outputId": "4419b9e6-291e-404c-ba1a-9d8c85e00fdb"
      },
      "execution_count": null,
      "outputs": [
        {
          "output_type": "execute_result",
          "data": {
            "text/plain": [
              "<tf.Tensor: shape=(50,), dtype=float32, numpy=\n",
              "array([0.6645621 , 0.44100678, 0.3528825 , 0.46448255, 0.03366041,\n",
              "       0.68467236, 0.74011743, 0.8724445 , 0.22632635, 0.22319686,\n",
              "       0.3103881 , 0.7223358 , 0.13318717, 0.5480639 , 0.5746088 ,\n",
              "       0.8996835 , 0.00946367, 0.5212307 , 0.6345445 , 0.1993283 ,\n",
              "       0.72942245, 0.54583454, 0.10756552, 0.6767061 , 0.6602763 ,\n",
              "       0.33695042, 0.60141766, 0.21062577, 0.8527372 , 0.44062173,\n",
              "       0.9485276 , 0.23752594, 0.81179297, 0.5263394 , 0.494308  ,\n",
              "       0.21612847, 0.8457197 , 0.8718841 , 0.3083862 , 0.6868038 ,\n",
              "       0.23764038, 0.7817228 , 0.9671384 , 0.06870162, 0.79873943,\n",
              "       0.66028714, 0.5871513 , 0.16461694, 0.7381023 , 0.32054043],\n",
              "      dtype=float32)>"
            ]
          },
          "metadata": {},
          "execution_count": 101
        }
      ]
    },
    {
      "cell_type": "code",
      "source": [
        "# Find the positional maximum\n",
        "tf.argmax(F)"
      ],
      "metadata": {
        "colab": {
          "base_uri": "https://localhost:8080/"
        },
        "id": "58G4m6OG7kbt",
        "outputId": "d48bf705-d7ea-4b7f-d9d1-adffddaeeea5"
      },
      "execution_count": null,
      "outputs": [
        {
          "output_type": "execute_result",
          "data": {
            "text/plain": [
              "<tf.Tensor: shape=(), dtype=int64, numpy=42>"
            ]
          },
          "metadata": {},
          "execution_count": 102
        }
      ]
    },
    {
      "cell_type": "code",
      "source": [
        "# Index on our largest value position\n",
        "F[tf.argmax(F)]"
      ],
      "metadata": {
        "colab": {
          "base_uri": "https://localhost:8080/"
        },
        "id": "ohqXcRwD756Z",
        "outputId": "0938d608-e25d-4ff3-af33-9d408330e3b3"
      },
      "execution_count": null,
      "outputs": [
        {
          "output_type": "execute_result",
          "data": {
            "text/plain": [
              "<tf.Tensor: shape=(), dtype=float32, numpy=0.9671384>"
            ]
          },
          "metadata": {},
          "execution_count": 103
        }
      ]
    },
    {
      "cell_type": "code",
      "source": [
        "# Find the max value of F\n",
        "tf.reduce_max(F)"
      ],
      "metadata": {
        "colab": {
          "base_uri": "https://localhost:8080/"
        },
        "id": "WV7_xsdD8Aos",
        "outputId": "97243746-5210-4661-b3e8-656f679b0c33"
      },
      "execution_count": null,
      "outputs": [
        {
          "output_type": "execute_result",
          "data": {
            "text/plain": [
              "<tf.Tensor: shape=(), dtype=float32, numpy=0.9671384>"
            ]
          },
          "metadata": {},
          "execution_count": 104
        }
      ]
    },
    {
      "cell_type": "code",
      "source": [
        "# Check for equality\n",
        "F[tf.argmax(F)] == tf.reduce_max(F)"
      ],
      "metadata": {
        "colab": {
          "base_uri": "https://localhost:8080/"
        },
        "id": "00N2Bdg78EFZ",
        "outputId": "e2bc47af-7c1e-4d79-e6f2-c0427a30505d"
      },
      "execution_count": null,
      "outputs": [
        {
          "output_type": "execute_result",
          "data": {
            "text/plain": [
              "<tf.Tensor: shape=(), dtype=bool, numpy=True>"
            ]
          },
          "metadata": {},
          "execution_count": 105
        }
      ]
    },
    {
      "cell_type": "code",
      "source": [
        "# Find the positional minimum\n",
        "tf.argmin(F)"
      ],
      "metadata": {
        "colab": {
          "base_uri": "https://localhost:8080/"
        },
        "id": "FcbITIeL8Kcc",
        "outputId": "9b5d40ae-9baf-437e-f1f8-bcb030854425"
      },
      "execution_count": null,
      "outputs": [
        {
          "output_type": "execute_result",
          "data": {
            "text/plain": [
              "<tf.Tensor: shape=(), dtype=int64, numpy=16>"
            ]
          },
          "metadata": {},
          "execution_count": 106
        }
      ]
    },
    {
      "cell_type": "code",
      "source": [
        "# Find the minimum using the positional minimum index\n",
        "F[tf.argmin(F)]"
      ],
      "metadata": {
        "colab": {
          "base_uri": "https://localhost:8080/"
        },
        "id": "vm4WlTS48dvA",
        "outputId": "06fe8a8c-bddc-4ec9-bf20-185089e49a47"
      },
      "execution_count": null,
      "outputs": [
        {
          "output_type": "execute_result",
          "data": {
            "text/plain": [
              "<tf.Tensor: shape=(), dtype=float32, numpy=0.009463668>"
            ]
          },
          "metadata": {},
          "execution_count": 107
        }
      ]
    },
    {
      "cell_type": "markdown",
      "source": [
        "## Squeezing a tensor (removing all 1-dimension axes)"
      ],
      "metadata": {
        "id": "aY6OPSqy8knv"
      }
    },
    {
      "cell_type": "code",
      "source": [
        "# Create a tensor to get started\n",
        "tf.random.set_seed(42)\n",
        "G = tf.constant(tf.random.uniform(shape=[50]), shape=(1, 1, 1, 1, 50))\n",
        "G"
      ],
      "metadata": {
        "colab": {
          "base_uri": "https://localhost:8080/"
        },
        "id": "IWTWzJab8py-",
        "outputId": "14b3347b-fafc-4f7c-93ec-da782dcca176"
      },
      "execution_count": null,
      "outputs": [
        {
          "output_type": "execute_result",
          "data": {
            "text/plain": [
              "<tf.Tensor: shape=(1, 1, 1, 1, 50), dtype=float32, numpy=\n",
              "array([[[[[0.6645621 , 0.44100678, 0.3528825 , 0.46448255, 0.03366041,\n",
              "           0.68467236, 0.74011743, 0.8724445 , 0.22632635, 0.22319686,\n",
              "           0.3103881 , 0.7223358 , 0.13318717, 0.5480639 , 0.5746088 ,\n",
              "           0.8996835 , 0.00946367, 0.5212307 , 0.6345445 , 0.1993283 ,\n",
              "           0.72942245, 0.54583454, 0.10756552, 0.6767061 , 0.6602763 ,\n",
              "           0.33695042, 0.60141766, 0.21062577, 0.8527372 , 0.44062173,\n",
              "           0.9485276 , 0.23752594, 0.81179297, 0.5263394 , 0.494308  ,\n",
              "           0.21612847, 0.8457197 , 0.8718841 , 0.3083862 , 0.6868038 ,\n",
              "           0.23764038, 0.7817228 , 0.9671384 , 0.06870162, 0.79873943,\n",
              "           0.66028714, 0.5871513 , 0.16461694, 0.7381023 , 0.32054043]]]]],\n",
              "      dtype=float32)>"
            ]
          },
          "metadata": {},
          "execution_count": 108
        }
      ]
    },
    {
      "cell_type": "code",
      "source": [
        "G.shape"
      ],
      "metadata": {
        "colab": {
          "base_uri": "https://localhost:8080/"
        },
        "id": "uXQ3sujl86TV",
        "outputId": "af5c9b4a-61ae-4189-eaeb-c5161aefb387"
      },
      "execution_count": null,
      "outputs": [
        {
          "output_type": "execute_result",
          "data": {
            "text/plain": [
              "TensorShape([1, 1, 1, 1, 50])"
            ]
          },
          "metadata": {},
          "execution_count": 109
        }
      ]
    },
    {
      "cell_type": "code",
      "source": [
        "# Squeeze our tensor\n",
        "G_squeezed = tf.squeeze(G)\n",
        "G_squeezed"
      ],
      "metadata": {
        "colab": {
          "base_uri": "https://localhost:8080/"
        },
        "id": "WwR1JiQc9KM5",
        "outputId": "afe4a7e5-d8f9-4dde-d63a-f9c8cfc9a1fb"
      },
      "execution_count": null,
      "outputs": [
        {
          "output_type": "execute_result",
          "data": {
            "text/plain": [
              "<tf.Tensor: shape=(50,), dtype=float32, numpy=\n",
              "array([0.6645621 , 0.44100678, 0.3528825 , 0.46448255, 0.03366041,\n",
              "       0.68467236, 0.74011743, 0.8724445 , 0.22632635, 0.22319686,\n",
              "       0.3103881 , 0.7223358 , 0.13318717, 0.5480639 , 0.5746088 ,\n",
              "       0.8996835 , 0.00946367, 0.5212307 , 0.6345445 , 0.1993283 ,\n",
              "       0.72942245, 0.54583454, 0.10756552, 0.6767061 , 0.6602763 ,\n",
              "       0.33695042, 0.60141766, 0.21062577, 0.8527372 , 0.44062173,\n",
              "       0.9485276 , 0.23752594, 0.81179297, 0.5263394 , 0.494308  ,\n",
              "       0.21612847, 0.8457197 , 0.8718841 , 0.3083862 , 0.6868038 ,\n",
              "       0.23764038, 0.7817228 , 0.9671384 , 0.06870162, 0.79873943,\n",
              "       0.66028714, 0.5871513 , 0.16461694, 0.7381023 , 0.32054043],\n",
              "      dtype=float32)>"
            ]
          },
          "metadata": {},
          "execution_count": 110
        }
      ]
    },
    {
      "cell_type": "markdown",
      "source": [
        "## One-hot encoding tensors\n",
        "\n",
        "One-hot encoding is a data science technique that converts categorical variables into a numerical format.\n",
        "\n",
        "![image.png](data:image/png;base64,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)"
      ],
      "metadata": {
        "id": "HayM3qQP9PRk"
      }
    },
    {
      "cell_type": "code",
      "source": [
        "# Create a list of indices\n",
        "some_list = [0, 1, 2, 3] # could be red, green, blue, purple\n",
        "\n",
        "# One hot encode our list of indices\n",
        "tf.one_hot(some_list, depth=4)"
      ],
      "metadata": {
        "colab": {
          "base_uri": "https://localhost:8080/"
        },
        "id": "T7phjdHr9d9Y",
        "outputId": "e157dfb4-c4e1-421c-ce77-0068e4e2b6b1"
      },
      "execution_count": null,
      "outputs": [
        {
          "output_type": "execute_result",
          "data": {
            "text/plain": [
              "<tf.Tensor: shape=(4, 4), dtype=float32, numpy=\n",
              "array([[1., 0., 0., 0.],\n",
              "       [0., 1., 0., 0.],\n",
              "       [0., 0., 1., 0.],\n",
              "       [0., 0., 0., 1.]], dtype=float32)>"
            ]
          },
          "metadata": {},
          "execution_count": 111
        }
      ]
    },
    {
      "cell_type": "code",
      "source": [
        "# Specify custom values for one hot encoding (rare)\n",
        "tf.one_hot(some_list, depth=4, on_value=\"hello\", off_value=\"NO\")"
      ],
      "metadata": {
        "colab": {
          "base_uri": "https://localhost:8080/"
        },
        "id": "xROtp22f-eyn",
        "outputId": "2fc92789-293c-42e3-96d4-e4f05a3b6da2"
      },
      "execution_count": null,
      "outputs": [
        {
          "output_type": "execute_result",
          "data": {
            "text/plain": [
              "<tf.Tensor: shape=(4, 4), dtype=string, numpy=\n",
              "array([[b'hello', b'NO', b'NO', b'NO'],\n",
              "       [b'NO', b'hello', b'NO', b'NO'],\n",
              "       [b'NO', b'NO', b'hello', b'NO'],\n",
              "       [b'NO', b'NO', b'NO', b'hello']], dtype=object)>"
            ]
          },
          "metadata": {},
          "execution_count": 112
        }
      ]
    },
    {
      "cell_type": "markdown",
      "source": [
        "## Trying out more tensor math operation\n",
        "\n",
        "Squaring, log, square root:"
      ],
      "metadata": {
        "id": "ahM-qo3g-3Tr"
      }
    },
    {
      "cell_type": "code",
      "source": [
        "# Create a new tensor\n",
        "H = tf.range(1, 10)\n",
        "H"
      ],
      "metadata": {
        "colab": {
          "base_uri": "https://localhost:8080/"
        },
        "id": "-1oLIT2l_AVF",
        "outputId": "1de8de16-2e98-4b21-ef83-a3dd43a4880c"
      },
      "execution_count": null,
      "outputs": [
        {
          "output_type": "execute_result",
          "data": {
            "text/plain": [
              "<tf.Tensor: shape=(9,), dtype=int32, numpy=array([1, 2, 3, 4, 5, 6, 7, 8, 9], dtype=int32)>"
            ]
          },
          "metadata": {},
          "execution_count": 113
        }
      ]
    },
    {
      "cell_type": "code",
      "source": [
        "# Square it\n",
        "tf.square(H)"
      ],
      "metadata": {
        "colab": {
          "base_uri": "https://localhost:8080/"
        },
        "id": "LdkFBcU7_YH6",
        "outputId": "0c1056bb-ade6-4283-f8cc-a366b9b75918"
      },
      "execution_count": null,
      "outputs": [
        {
          "output_type": "execute_result",
          "data": {
            "text/plain": [
              "<tf.Tensor: shape=(9,), dtype=int32, numpy=array([ 1,  4,  9, 16, 25, 36, 49, 64, 81], dtype=int32)>"
            ]
          },
          "metadata": {},
          "execution_count": 114
        }
      ]
    },
    {
      "cell_type": "code",
      "source": [
        "# Find the square root\n",
        "tf.sqrt(tf.cast(H, dtype=tf.float32))"
      ],
      "metadata": {
        "colab": {
          "base_uri": "https://localhost:8080/"
        },
        "id": "PKXx86V1_aVg",
        "outputId": "5a7b33e1-c722-4dc7-fbae-c602013a2498"
      },
      "execution_count": null,
      "outputs": [
        {
          "output_type": "execute_result",
          "data": {
            "text/plain": [
              "<tf.Tensor: shape=(9,), dtype=float32, numpy=\n",
              "array([1.       , 1.4142135, 1.7320508, 2.       , 2.2360678, 2.4494896,\n",
              "       2.6457512, 2.828427 , 3.       ], dtype=float32)>"
            ]
          },
          "metadata": {},
          "execution_count": 115
        }
      ]
    },
    {
      "cell_type": "code",
      "source": [
        "# Find the log\n",
        "tf.math.log(tf.cast(H, dtype=tf.float32))"
      ],
      "metadata": {
        "colab": {
          "base_uri": "https://localhost:8080/"
        },
        "id": "sZa1nfKd_hdU",
        "outputId": "fe712171-af10-4763-ba0a-40273646a1a8"
      },
      "execution_count": null,
      "outputs": [
        {
          "output_type": "execute_result",
          "data": {
            "text/plain": [
              "<tf.Tensor: shape=(9,), dtype=float32, numpy=\n",
              "array([0.       , 0.6931472, 1.0986123, 1.3862944, 1.609438 , 1.7917595,\n",
              "       1.9459102, 2.0794415, 2.1972246], dtype=float32)>"
            ]
          },
          "metadata": {},
          "execution_count": 116
        }
      ]
    },
    {
      "cell_type": "markdown",
      "source": [
        "## Exploring TensorFlow and NumPy's compatibility\n",
        "\n",
        "TensorFlow interacts beautifully with NumPy arrays.\n",
        "\n",
        "🔑**Note:** One of the main differences between a TensorFlow tensor and a NumPy array is that a tensorFlow tensor can be run on a GPU or TPU (for faster numerical processing)."
      ],
      "metadata": {
        "id": "WVD-lBU_AHwo"
      }
    },
    {
      "cell_type": "code",
      "source": [
        "# Create a tensor directly from a NumPy array\n",
        "J = tf.constant(np.array([3., 7., 10.]))\n",
        "J"
      ],
      "metadata": {
        "colab": {
          "base_uri": "https://localhost:8080/"
        },
        "id": "01PfUEP9AUzL",
        "outputId": "07d13f7b-d7b5-4f66-e215-d37efab92866"
      },
      "execution_count": null,
      "outputs": [
        {
          "output_type": "execute_result",
          "data": {
            "text/plain": [
              "<tf.Tensor: shape=(3,), dtype=float64, numpy=array([ 3.,  7., 10.])>"
            ]
          },
          "metadata": {},
          "execution_count": 117
        }
      ]
    },
    {
      "cell_type": "code",
      "source": [
        "# Convert our tensor back to a NumPy array\n",
        "np.array(J), type(np.array(J))"
      ],
      "metadata": {
        "colab": {
          "base_uri": "https://localhost:8080/"
        },
        "id": "_Mo3QKBhAtcM",
        "outputId": "ac6dcf71-9bf4-4dbe-d45b-ac2ffa1efcd4"
      },
      "execution_count": null,
      "outputs": [
        {
          "output_type": "execute_result",
          "data": {
            "text/plain": [
              "(array([ 3.,  7., 10.]), numpy.ndarray)"
            ]
          },
          "metadata": {},
          "execution_count": 118
        }
      ]
    },
    {
      "cell_type": "code",
      "source": [
        "# Convert tensor J to a NumPy array\n",
        "J.numpy(), type(J.numpy())"
      ],
      "metadata": {
        "colab": {
          "base_uri": "https://localhost:8080/"
        },
        "id": "bSML1Dv3A0T6",
        "outputId": "4a545c43-deb3-4d84-b1b9-c3c4f7ca0bed"
      },
      "execution_count": null,
      "outputs": [
        {
          "output_type": "execute_result",
          "data": {
            "text/plain": [
              "(array([ 3.,  7., 10.]), numpy.ndarray)"
            ]
          },
          "metadata": {},
          "execution_count": 119
        }
      ]
    },
    {
      "cell_type": "code",
      "source": [
        "# The default types of each are slightly different\n",
        "numpy_J = tf.constant(np.array([3., 7., 10.]))\n",
        "tensor_J = tf.constant([3., 7., 10.])\n",
        "# Check the datatypes of each\n",
        "numpy_J.dtype, tensor_J.dtype"
      ],
      "metadata": {
        "colab": {
          "base_uri": "https://localhost:8080/"
        },
        "id": "Rww_CKASA9kk",
        "outputId": "29394018-9390-44d3-aad1-f646ee4a0260"
      },
      "execution_count": null,
      "outputs": [
        {
          "output_type": "execute_result",
          "data": {
            "text/plain": [
              "(tf.float64, tf.float32)"
            ]
          },
          "metadata": {},
          "execution_count": 120
        }
      ]
    },
    {
      "cell_type": "markdown",
      "source": [
        "## Making sure our tensor operations run really fast on GPUs\n",
        "\n",
        "**Finding access to GPUs**"
      ],
      "metadata": {
        "id": "mLlAGLY5BB6-"
      }
    },
    {
      "cell_type": "code",
      "source": [
        "# Returns a list of the physical devices avaliable\n",
        "tf.config.list_physical_devices()"
      ],
      "metadata": {
        "colab": {
          "base_uri": "https://localhost:8080/"
        },
        "id": "-sFWztHFByCQ",
        "outputId": "11d4b22b-24c9-4e0f-b02d-ffb774a4abb1"
      },
      "execution_count": null,
      "outputs": [
        {
          "output_type": "execute_result",
          "data": {
            "text/plain": [
              "[PhysicalDevice(name='/physical_device:CPU:0', device_type='CPU'),\n",
              " PhysicalDevice(name='/physical_device:GPU:0', device_type='GPU')]"
            ]
          },
          "metadata": {},
          "execution_count": 122
        }
      ]
    },
    {
      "cell_type": "code",
      "source": [
        "!nvidia-smi"
      ],
      "metadata": {
        "colab": {
          "base_uri": "https://localhost:8080/"
        },
        "id": "j_lkliw6DvME",
        "outputId": "341280d6-fe2b-440e-add5-06552314539e"
      },
      "execution_count": null,
      "outputs": [
        {
          "output_type": "stream",
          "name": "stdout",
          "text": [
            "Sat Dec 23 23:48:57 2023       \n",
            "+---------------------------------------------------------------------------------------+\n",
            "| NVIDIA-SMI 535.104.05             Driver Version: 535.104.05   CUDA Version: 12.2     |\n",
            "|-----------------------------------------+----------------------+----------------------+\n",
            "| GPU  Name                 Persistence-M | Bus-Id        Disp.A | Volatile Uncorr. ECC |\n",
            "| Fan  Temp   Perf          Pwr:Usage/Cap |         Memory-Usage | GPU-Util  Compute M. |\n",
            "|                                         |                      |               MIG M. |\n",
            "|=========================================+======================+======================|\n",
            "|   0  Tesla T4                       Off | 00000000:00:04.0 Off |                    0 |\n",
            "| N/A   40C    P0              26W /  70W |    107MiB / 15360MiB |      0%      Default |\n",
            "|                                         |                      |                  N/A |\n",
            "+-----------------------------------------+----------------------+----------------------+\n",
            "                                                                                         \n",
            "+---------------------------------------------------------------------------------------+\n",
            "| Processes:                                                                            |\n",
            "|  GPU   GI   CI        PID   Type   Process name                            GPU Memory |\n",
            "|        ID   ID                                                             Usage      |\n",
            "|=======================================================================================|\n",
            "+---------------------------------------------------------------------------------------+\n"
          ]
        }
      ]
    },
    {
      "cell_type": "markdown",
      "source": [
        "🔑**Note:** If you have access to a CUDA-enabled GPU, TensorFlow will automatically use it whenever possible"
      ],
      "metadata": {
        "id": "9QGl_ss1FPXE"
      }
    },
    {
      "cell_type": "code",
      "source": [],
      "metadata": {
        "id": "WXBgm_m8Frgb"
      },
      "execution_count": null,
      "outputs": []
    }
  ]
}